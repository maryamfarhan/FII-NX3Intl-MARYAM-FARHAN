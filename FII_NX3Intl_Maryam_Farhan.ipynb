{
  "cells": [
    {
      "cell_type": "markdown",
      "metadata": {
        "id": "BWnnkttqx53l"
      },
      "source": [
        "# **Introduction**\n",
        "# Flood Risk Prediction for Karachi\n",
        "Using LSTM deep learning to predict urban flooding risk based on weather data.  \n",
        "Aligned with SDG 13: Climate Action."
      ]
    },
    {
      "cell_type": "code",
      "execution_count": 28,
      "metadata": {
        "colab": {
          "base_uri": "https://localhost:8080/"
        },
        "id": "_khm2xZSsWnJ",
        "outputId": "c61044aa-c9ec-4cc8-bb24-17da7d8f564e"
      },
      "outputs": [
        {
          "name": "stdout",
          "output_type": "stream",
          "text": [
            "                                   -END HEADER-\n",
            "YEAR MO DY RH2M  WS2M T2M   PS      PRECTOTCORR\n",
            "2010 1  1  47.84 1.94 20.37 100.88          0.0\n",
            "        2  43.02 3.05 20.81 100.91         0.11\n",
            "        3  56.42 1.93 20.86 101.18          0.0\n",
            "        4  54.88 2.19 20.13 101.21          0.0\n"
          ]
        }
      ],
      "source": [
        "import requests\n",
        "import pandas as pd\n",
        "\n",
        "\n",
        "url = (\"https://power.larc.nasa.gov/api/temporal/daily/point\"\n",
        "       \"?parameters=PRECTOT,T2M,RH2M,WS2M,PS\"\n",
        "       \"&community=RE\"\n",
        "       \"&longitude=67.0099&latitude=24.8607\"\n",
        "       \"&start=2010&end=2023\"\n",
        "       \"&format=CSV\")\n",
        "\n",
        "response = requests.get(url)\n",
        "\n",
        "\n",
        "with open(\"karachi_weather.csv\", \"wb\") as f:\n",
        "    f.write(response.content)\n",
        "\n",
        "df = pd.read_csv(\"karachi_weather.csv\", skiprows=12)  # skip metadata rows\n",
        "print(df.head())"
      ]
    },
    {
      "cell_type": "markdown",
      "metadata": {
        "id": "LRsDuuGGzlQa"
      },
      "source": [
        "# **Load & Explore Data**"
      ]
    },
    {
      "cell_type": "code",
      "execution_count": 29,
      "metadata": {
        "colab": {
          "base_uri": "https://localhost:8080/"
        },
        "id": "ZqQP3GrNt4cA",
        "outputId": "05de9787-e959-4ff1-aa13-79c6aae26025"
      },
      "outputs": [
        {
          "name": "stdout",
          "output_type": "stream",
          "text": [
            "                                   -END HEADER-\n",
            "YEAR MO DY RH2M  WS2M T2M   PS      PRECTOTCORR\n",
            "2010 1  1  47.84 1.94 20.37 100.88          0.0\n",
            "        2  43.02 3.05 20.81 100.91         0.11\n",
            "        3  56.42 1.93 20.86 101.18          0.0\n",
            "        4  54.88 2.19 20.13 101.21          0.0\n"
          ]
        }
      ],
      "source": [
        "df = pd.read_csv(\"karachi_weather.csv\", skiprows=12)\n",
        "print(df.head())\n"
      ]
    },
    {
      "cell_type": "code",
      "execution_count": 30,
      "metadata": {
        "colab": {
          "base_uri": "https://localhost:8080/"
        },
        "id": "xLhtLA5wuCEL",
        "outputId": "f5edaf69-4cfd-41d7-813c-ab0ebc53d119"
      },
      "outputs": [
        {
          "name": "stdout",
          "output_type": "stream",
          "text": [
            "   YEAR  MO  DY   RH2M  WS2M    T2M      PS  PRECTOTCORR\n",
            "0  2010   1   1  47.84  1.94  20.37  100.88         0.00\n",
            "1  2010   1   2  43.02  3.05  20.81  100.91         0.11\n",
            "2  2010   1   3  56.42  1.93  20.86  101.18         0.00\n",
            "3  2010   1   4  54.88  2.19  20.13  101.21         0.00\n",
            "4  2010   1   5  63.29  2.26  20.30  100.90         0.00\n",
            "Index(['YEAR', 'MO', 'DY', 'RH2M', 'WS2M', 'T2M', 'PS', 'PRECTOTCORR'], dtype='object')\n"
          ]
        }
      ],
      "source": [
        "import pandas as pd\n",
        "\n",
        "df = pd.read_csv(\"karachi_weather.csv\", skiprows=13)\n",
        "df.columns = df.columns.str.strip()\n",
        "\n",
        "print(df.head())\n",
        "print(df.columns)"
      ]
    },
    {
      "cell_type": "markdown",
      "metadata": {
        "id": "cPKEJt7dzsfI"
      },
      "source": [
        "# **Preprocess the Data**"
      ]
    },
    {
      "cell_type": "code",
      "execution_count": 31,
      "metadata": {
        "colab": {
          "base_uri": "https://localhost:8080/"
        },
        "id": "nmKi9fJ4ujY3",
        "outputId": "b7971925-e211-4f19-ac83-c5df40c90b34"
      },
      "outputs": [
        {
          "name": "stdout",
          "output_type": "stream",
          "text": [
            "       Temp  Humidity  Pressure      Wind  Rainfall FloodRisk       Date\n",
            "0  0.367135  0.111372  0.312167  0.729730  0.000000       Low 2010-01-01\n",
            "1  0.296605  0.241501  0.333495  0.739865  0.000975       Low 2010-01-02\n",
            "2  0.492684  0.110199  0.335919  0.831081  0.000000       Low 2010-01-03\n",
            "3  0.470149  0.140680  0.300533  0.841216  0.000000       Low 2010-01-04\n",
            "4  0.593210  0.148886  0.308774  0.736486  0.000000       Low 2010-01-05\n"
          ]
        }
      ],
      "source": [
        "from sklearn.preprocessing import MinMaxScaler\n",
        "df = pd.read_csv(\"karachi_weather.csv\", skiprows=13)\n",
        "df.columns = ['YEAR','MO','DY','T2M','RH2M','PS','WS2M','PRECTOTCORR']\n",
        "df['Date'] = pd.to_datetime(dict(year=df.YEAR, month=df.MO, day=df.DY))\n",
        "\n",
        "df = df[['Date','T2M','RH2M','PS','WS2M','PRECTOTCORR']].rename(columns={\n",
        "    'T2M': 'Temp',\n",
        "    'RH2M': 'Humidity',\n",
        "    'PS': 'Pressure',\n",
        "    'WS2M': 'Wind',\n",
        "    'PRECTOTCORR': 'Rainfall'\n",
        "})\n",
        "\n",
        "df['FloodRisk'] = pd.cut(df['Rainfall'],\n",
        "                         bins=[-1, 10, 50, 500],\n",
        "                         labels=['Low','Medium','High'])\n",
        "\n",
        "df = df.dropna()\n",
        "\n",
        "scaler = MinMaxScaler()\n",
        "scaled = scaler.fit_transform(df[['Temp','Humidity','Pressure','Wind','Rainfall']])\n",
        "\n",
        "scaled_df = pd.DataFrame(scaled, columns=['Temp','Humidity','Pressure','Wind','Rainfall'])\n",
        "scaled_df['FloodRisk'] = df['FloodRisk'].values\n",
        "scaled_df['Date'] = df['Date'].values\n",
        "\n",
        "print(scaled_df.head())\n",
        "\n"
      ]
    },
    {
      "cell_type": "markdown",
      "metadata": {
        "id": "H9jrgfXR0pmN"
      },
      "source": [
        "# **Build LSTM Model**\n"
      ]
    },
    {
      "cell_type": "code",
      "execution_count": 32,
      "metadata": {
        "id": "ZkdDB5QTvBN0"
      },
      "outputs": [],
      "source": [
        "import torch\n",
        "import torch.nn as nn\n",
        "from torch.utils.data import Dataset, DataLoader\n",
        "import numpy as np\n",
        "SEQ_LEN = 30  # number of past days to look at\n",
        "class FloodDataset(Dataset):\n",
        "    def __init__(self, df, seq_len=SEQ_LEN):\n",
        "        self.seq_len = seq_len\n",
        "        X = df[['Temp','Humidity','Pressure','Wind','Rainfall']].values\n",
        "        y = df['FloodRisk'].astype('category').cat.codes.values  # convert labels to 0/1/2\n",
        "        self.X, self.y = [], []\n",
        "        for i in range(len(X) - seq_len):\n",
        "            self.X.append(X[i:i+seq_len])\n",
        "            self.y.append(y[i+seq_len])\n",
        "        self.X = torch.tensor(np.array(self.X), dtype=torch.float32)\n",
        "        self.y = torch.tensor(np.array(self.y), dtype=torch.long)\n",
        "\n",
        "    def __len__(self):\n",
        "        return len(self.X)\n",
        "\n",
        "    def __getitem__(self, idx):\n",
        "        return self.X[idx], self.y[idx]\n",
        "\n",
        "dataset = FloodDataset(scaled_df)\n",
        "dataloader = DataLoader(dataset, batch_size=32, shuffle=True)\n",
        "\n",
        "class FloodLSTM(nn.Module):\n",
        "    def __init__(self, input_size=5, hidden_size=64, num_layers=2, num_classes=3):\n",
        "        super(FloodLSTM, self).__init__()\n",
        "        self.lstm = nn.LSTM(input_size, hidden_size, num_layers, batch_first=True)\n",
        "        self.fc = nn.Linear(hidden_size, num_classes)\n",
        "\n",
        "    def forward(self, x):\n",
        "        out, _ = self.lstm(x)\n",
        "        out = out[:, -1, :]  # last hidden state\n",
        "        out = self.fc(out)\n",
        "        return out\n",
        "\n",
        "model = FloodLSTM()\n"
      ]
    },
    {
      "cell_type": "markdown",
      "metadata": {
        "id": "SnIsZ9PA03Tf"
      },
      "source": [
        "# **Train the Model**"
      ]
    },
    {
      "cell_type": "code",
      "execution_count": 33,
      "metadata": {
        "colab": {
          "base_uri": "https://localhost:8080/"
        },
        "id": "Z5q12mLUvHxF",
        "outputId": "f246c8b8-bb4f-4463-9c14-beb72a7fa8af"
      },
      "outputs": [
        {
          "name": "stdout",
          "output_type": "stream",
          "text": [
            "Epoch 1/20, Loss: 30.1113, Accuracy: 0.9441\n",
            "Epoch 2/20, Loss: 15.9246, Accuracy: 0.9811\n",
            "Epoch 3/20, Loss: 16.0960, Accuracy: 0.9811\n",
            "Epoch 4/20, Loss: 15.8673, Accuracy: 0.9811\n",
            "Epoch 5/20, Loss: 15.8359, Accuracy: 0.9811\n",
            "Epoch 6/20, Loss: 15.7244, Accuracy: 0.9811\n",
            "Epoch 7/20, Loss: 14.8656, Accuracy: 0.9811\n",
            "Epoch 8/20, Loss: 13.2893, Accuracy: 0.9811\n",
            "Epoch 9/20, Loss: 12.6121, Accuracy: 0.9811\n",
            "Epoch 10/20, Loss: 11.5891, Accuracy: 0.9813\n",
            "Epoch 11/20, Loss: 10.7475, Accuracy: 0.9825\n",
            "Epoch 12/20, Loss: 10.2953, Accuracy: 0.9827\n",
            "Epoch 13/20, Loss: 9.6976, Accuracy: 0.9831\n",
            "Epoch 14/20, Loss: 9.3653, Accuracy: 0.9829\n",
            "Epoch 15/20, Loss: 9.3026, Accuracy: 0.9827\n",
            "Epoch 16/20, Loss: 9.1347, Accuracy: 0.9831\n",
            "Epoch 17/20, Loss: 8.9331, Accuracy: 0.9827\n",
            "Epoch 18/20, Loss: 8.9718, Accuracy: 0.9829\n",
            "Epoch 19/20, Loss: 8.8845, Accuracy: 0.9825\n",
            "Epoch 20/20, Loss: 8.7292, Accuracy: 0.9829\n"
          ]
        }
      ],
      "source": [
        "import torch.optim as optim\n",
        "from sklearn.metrics import accuracy_score\n",
        "\n",
        "# Device setup\n",
        "device = torch.device(\"cuda\" if torch.cuda.is_available() else \"cpu\")\n",
        "model = FloodLSTM().to(device)\n",
        "\n",
        "# Loss & optimizer\n",
        "criterion = nn.CrossEntropyLoss()\n",
        "optimizer = optim.Adam(model.parameters(), lr=0.001)\n",
        "\n",
        "# Training loop\n",
        "EPOCHS = 20\n",
        "for epoch in range(EPOCHS):\n",
        "    model.train()\n",
        "    epoch_loss, all_preds, all_labels = 0, [], []\n",
        "\n",
        "    for X_batch, y_batch in dataloader:\n",
        "        X_batch, y_batch = X_batch.to(device), y_batch.to(device)\n",
        "\n",
        "        optimizer.zero_grad()\n",
        "        outputs = model(X_batch)\n",
        "\n",
        "        loss = criterion(outputs, y_batch)\n",
        "        loss.backward()\n",
        "        optimizer.step()\n",
        "\n",
        "        epoch_loss += loss.item()\n",
        "        preds = torch.argmax(outputs, dim=1)\n",
        "        all_preds.extend(preds.cpu().numpy())\n",
        "        all_labels.extend(y_batch.cpu().numpy())\n",
        "\n",
        "    acc = accuracy_score(all_labels, all_preds)\n",
        "    print(f\"Epoch {epoch+1}/{EPOCHS}, Loss: {epoch_loss:.4f}, Accuracy: {acc:.4f}\")\n"
      ]
    },
    {
      "cell_type": "code",
      "execution_count": 34,
      "metadata": {
        "id": "eWb4hjIevnR9"
      },
      "outputs": [],
      "source": [
        "torch.save(model.state_dict(), \"flood_lstm.pth\")\n"
      ]
    },
    {
      "cell_type": "code",
      "execution_count": 35,
      "metadata": {
        "colab": {
          "base_uri": "https://localhost:8080/"
        },
        "id": "eq7LfK0DwSDh",
        "outputId": "653c9b7e-633b-4bdc-a979-c29e45593cd9"
      },
      "outputs": [
        {
          "data": {
            "text/plain": [
              "FloodLSTM(\n",
              "  (lstm): LSTM(5, 64, num_layers=2, batch_first=True)\n",
              "  (fc): Linear(in_features=64, out_features=3, bias=True)\n",
              ")"
            ]
          },
          "execution_count": 35,
          "metadata": {},
          "output_type": "execute_result"
        }
      ],
      "source": [
        "model = FloodLSTM().to(device)\n",
        "model.load_state_dict(torch.load(\"flood_lstm.pth\"))\n",
        "model.eval()\n"
      ]
    },
    {
      "cell_type": "code",
      "execution_count": 36,
      "metadata": {
        "colab": {
          "base_uri": "https://localhost:8080/"
        },
        "id": "VbTgWqtFwUcZ",
        "outputId": "b63cc466-e9d8-457a-cd5a-a19761bc5356"
      },
      "outputs": [
        {
          "name": "stdout",
          "output_type": "stream",
          "text": [
            "Predicted Flood Risk: Low\n"
          ]
        }
      ],
      "source": [
        "def predict_flood_risk(model, data, scaler):\n",
        "    model.eval()\n",
        "    with torch.no_grad():\n",
        "        X = torch.tensor(data.values, dtype=torch.float32).unsqueeze(0).to(device)\n",
        "        output = model(X)\n",
        "        pred_class = torch.argmax(output, dim=1).item()\n",
        "        return \"High\" if pred_class == 1 else \"Low\"\n",
        "\n",
        "#last 30 days\n",
        "last_30 = scaled_df[['Temp','Humidity','Pressure','Wind','Rainfall']].tail(30)\n",
        "risk = predict_flood_risk(model, last_30, scaler)\n",
        "print(\"Predicted Flood Risk:\", risk)\n"
      ]
    },
    {
      "cell_type": "code",
      "execution_count": 37,
      "metadata": {
        "id": "Q8ef3yjmxU0M"
      },
      "outputs": [],
      "source": [
        "from sklearn.model_selection import train_test_split\n",
        "\n",
        "features = ['Temp','Humidity','Pressure','Wind','Rainfall']\n",
        "X = scaled_df[features].values\n",
        "y = (scaled_df['FloodRisk'] == 'High').astype(int).values  # 1 = High, 0 = Low\n",
        "\n",
        "\n",
        "X_train, X_test, y_train, y_test = train_test_split(\n",
        "    X, y, test_size=0.2, shuffle=False\n",
        ")\n",
        "\n",
        "X_test_tensor = torch.tensor(X_test, dtype=torch.float32).unsqueeze(1)\n",
        "y_test_tensor = torch.tensor(y_test, dtype=torch.long)"
      ]
    },
    {
      "cell_type": "markdown",
      "metadata": {
        "id": "hyHNNCW8xgQ1"
      },
      "source": [
        "# **Model Evaluation**\n"
      ]
    },
    {
      "cell_type": "code",
      "execution_count": 38,
      "metadata": {
        "colab": {
          "base_uri": "https://localhost:8080/",
          "height": 584
        },
        "id": "PmeL3xk3wvww",
        "outputId": "0f44d93e-8aa0-48f9-8056-6f117f06b435"
      },
      "outputs": [
        {
          "data": {
            "image/png": "[encoded data removed]",
            "text/plain": [
              "<Figure size 600x400 with 2 Axes>"
            ]
          },
          "metadata": {},
          "output_type": "display_data"
        },
        {
          "name": "stdout",
          "output_type": "stream",
          "text": [
            "Classification Report:\n",
            "              precision    recall  f1-score   support\n",
            "\n",
            "         Low       1.00      0.95      0.97      1022\n",
            "        High       0.02      1.00      0.04         1\n",
            "\n",
            "    accuracy                           0.95      1023\n",
            "   macro avg       0.51      0.97      0.51      1023\n",
            "weighted avg       1.00      0.95      0.97      1023\n",
            "\n"
          ]
        }
      ],
      "source": [
        "from sklearn.metrics import classification_report, confusion_matrix\n",
        "import seaborn as sns\n",
        "import matplotlib.pyplot as plt\n",
        "model.eval()\n",
        "\n",
        "\n",
        "with torch.no_grad():\n",
        "    outputs = model(X_test_tensor)\n",
        "    y_pred = torch.argmax(outputs, dim=1).cpu().numpy()\n",
        "\n",
        "\n",
        "y_true = y_test_tensor.cpu().numpy()\n",
        "cm = confusion_matrix(y_true, y_pred)\n",
        "\n",
        "plt.figure(figsize=(6,4))\n",
        "sns.heatmap(cm, annot=True, fmt=\"d\", cmap=\"Blues\",\n",
        "            xticklabels=['Low','High'], yticklabels=['Low','High'])\n",
        "plt.xlabel(\"Predicted\")\n",
        "plt.ylabel(\"Actual\")\n",
        "plt.title(\"Confusion Matrix\")\n",
        "plt.show()\n",
        "\n",
        "# Classification report\n",
        "print(\"Classification Report:\")\n",
        "print(classification_report(y_true, y_pred, target_names=['Low','High']))\n",
        "\n"
      ]
    },
    {
      "cell_type": "markdown",
      "metadata": {
        "id": "iCsVk_v82T19"
      },
      "source": [
        "## **Simulations**"
      ]
    },
    {
      "cell_type": "code",
      "execution_count": 41,
      "metadata": {
        "id": "_AUg5wO66fvY"
      },
      "outputs": [],
      "source": [
        "import torch.nn.functional as F\n",
        "\n",
        "def simulate_weather_change(model, last_30_df, feature, change):\n",
        "    df = last_30_df.copy()\n",
        "    df[feature] = df[feature] + change\n",
        "\n",
        "    data_tensor = torch.tensor(df.values[np.newaxis, :, :], dtype=torch.float32)\n",
        "\n",
        "    with torch.no_grad():\n",
        "        output = model(data_tensor)\n",
        "        probs = F.softmax(output, dim=1).cpu().numpy()[0]\n",
        "        return \"High\" if probs[1] > 0.5 else \"Low\"\n",
        "last_30_df = scaled_df[['Temp','Humidity','Pressure','Wind','Rainfall']].tail(30)\n"
      ]
    },
    {
      "cell_type": "code",
      "execution_count": 42,
      "metadata": {
        "colab": {
          "base_uri": "https://localhost:8080/",
          "height": 807
        },
        "id": "-OCfd7f_1H3_",
        "outputId": "37eb83c2-a275-4d48-d18c-e844e105df0d"
      },
      "outputs": [
        {
          "data": {
            "image/png": "[encoded data removed]",
            "text/plain": [
              "<Figure size 1200x800 with 5 Axes>"
            ]
          },
          "metadata": {},
          "output_type": "display_data"
        }
      ],
      "source": [
        "features = ['Temp', 'Humidity', 'Pressure', 'Wind', 'Rainfall']\n",
        "changes = np.linspace(-1, 1, 20)\n",
        "\n",
        "plt.figure(figsize=(12, 8))\n",
        "\n",
        "for i, feature in enumerate(features, 1):\n",
        "    risks = []\n",
        "    for change in changes:\n",
        "        risk = simulate_weather_change(model, last_30_df, feature, change)\n",
        "        risks.append(1 if risk == \"High\" else 0)\n",
        "\n",
        "    plt.subplot(2, 3, i)\n",
        "    plt.plot(changes, risks, marker='o', color=\"green\")\n",
        "    plt.title(f\"Flood Risk vs {feature} Change\")\n",
        "    plt.xlabel(f\"Change in {feature} (scaled units)\")\n",
        "    plt.ylabel(\"Flood Risk (0=Low, 1=High)\")\n",
        "    plt.ylim(-0.1, 1.1)\n",
        "    plt.grid(True)\n",
        "\n",
        "plt.tight_layout()\n",
        "plt.show()\n",
        "\n",
        "\n",
        "\n"
      ]
    },
    {
      "cell_type": "code",
      "execution_count": 43,
      "metadata": {
        "colab": {
          "base_uri": "https://localhost:8080/",
          "height": 807
        },
        "id": "Lr0AkMINYeWI",
        "outputId": "26810e2f-ea12-47e1-d569-b629f0e4c416"
      },
      "outputs": [
        {
          "data": {
            "image/png": "[encoded data removed]",
            "text/plain": [
              "<Figure size 1200x800 with 5 Axes>"
            ]
          },
          "metadata": {},
          "output_type": "display_data"
        }
      ],
      "source": [
        "import torch.nn.functional as F\n",
        "\n",
        "def simulate_prob_change(model, last_30_df, feature, change):\n",
        "\n",
        "    data = last_30_df.copy()\n",
        "    data[feature] = data[feature] + change\n",
        "\n",
        "\n",
        "    data_tensor = torch.tensor(data.values[np.newaxis, :, :], dtype=torch.float32)\n",
        "\n",
        "\n",
        "    with torch.no_grad():\n",
        "        output = model(data_tensor)\n",
        "        probs = F.softmax(output, dim=1).cpu().numpy()[0]\n",
        "        return probs[1]\n",
        "\n",
        "\n",
        "features = ['Temp', 'Humidity', 'Pressure', 'Wind', 'Rainfall']\n",
        "changes = np.linspace(-1, 1, 20)\n",
        "\n",
        "plt.figure(figsize=(12, 8))\n",
        "\n",
        "for i, feature in enumerate(features, 1):\n",
        "    high_probs = []\n",
        "    for change in changes:\n",
        "        prob = simulate_prob_change(model, last_30_df, feature, change)\n",
        "        high_probs.append(prob)\n",
        "\n",
        "    plt.subplot(2, 3, i)\n",
        "    plt.plot(changes, high_probs, marker='o', color=\"red\")\n",
        "    plt.title(f\"Flood Risk Probability vs {feature}\")\n",
        "    plt.xlabel(f\"Change in {feature} (scaled units)\")\n",
        "    plt.ylabel(\"Probability of High Flood Risk\")\n",
        "    plt.ylim(0, 1)\n",
        "    plt.grid(True)\n",
        "\n",
        "plt.tight_layout()\n",
        "plt.show()\n"
      ]
    },
    {
      "cell_type": "markdown",
      "metadata": {
        "id": "MrC6bjosa25Q"
      },
      "source": [
        "# **Dashboard**"
      ]
    },
    {
      "cell_type": "code",
      "execution_count": 44,
      "metadata": {
        "colab": {
          "base_uri": "https://localhost:8080/",
          "height": 984,
          "referenced_widgets": [
            "921b6d5529f64496b0d3fd6cb203b47d",
            "8bb4ec7143d14c4fbe60f03fd693099f",
            "cd21d8020d2a4c1299c0af32d4c0d8e4",
            "ca4e0fea79c643ba8e392b2a235ba527",
            "7f20d25224104828ae7138583267eb94",
            "012394a67ddb4cd28dc52aa57d5e9951",
            "5a02f2fbbe184e378c460a10b5a27184",
            "ba59036773d240cb84178b1140a221f4",
            "9fd0434f9ee64201b986a1d741bd1217",
            "a00ab1695f704019b9ad5e6b33c4ab39",
            "4883ec1985974369b74b402ca46baa80",
            "7aa8dc98d23f450e8a4a2f2dd3ece4e4",
            "b80d6c879066429a940f17b6664629bc",
            "08053c872129470f84c0bdbd7aa369d0",
            "ee4188aaf102498598012a23957b8243",
            "43b1b365eb3d406c96e665339f1caa26",
            "cf67c27d2b8847c38e7063499a1d434e",
            "4c1a61f82d4e4d7cab50cb198f8e420d",
            "32feab4969c24adfbd63c9577f6deb11",
            "fe97493b7302431e9d23927acd9adee9",
            "2604fbda12fd40e1b51bfa7a94013f19",
            "93d08ccd92a547d19dbbc15f9c2c61a6",
            "1d0ce5604fec4135a0d46a6ebd3f4b9b"
          ]
        },
        "id": "mUA9ClmFaUxL",
        "outputId": "22e4f7a9-5de5-4245-ab52-9284a52e629c"
      },
      "outputs": [
        {
          "data": {
            "application/vnd.jupyter.widget-view+json": {
              "model_id": "921b6d5529f64496b0d3fd6cb203b47d",
              "version_major": 2,
              "version_minor": 0
            },
            "text/plain": [
              "interactive(children=(FloatSlider(value=0.26851038923031895, description='Temp', max=0.6428153350892596, min=0…"
            ]
          },
          "metadata": {},
          "output_type": "display_data"
        },
        {
          "data": {
            "application/vnd.jupyter.widget-view+json": {
              "model_id": "fe97493b7302431e9d23927acd9adee9",
              "version_major": 2,
              "version_minor": 0
            },
            "text/plain": [
              "VBox(children=(Output(),))"
            ]
          },
          "metadata": {},
          "output_type": "display_data"
        }
      ],
      "source": [
        "from ipywidgets import interact, FloatSlider, VBox, HBox, Output\n",
        "last_30_df = scaled_df[['Temp','Humidity','Pressure','Wind','Rainfall']].tail(30)\n",
        "\n",
        "def predict_prob(model, seq_df):\n",
        "    data_tensor = torch.tensor(seq_df.values[np.newaxis, :, :], dtype=torch.float32)\n",
        "    with torch.no_grad():\n",
        "        output = model(data_tensor)\n",
        "        probs = F.softmax(output, dim=1).cpu().numpy()[0]\n",
        "        return probs[1]\n",
        "\n",
        "def simulate_prob_change(model, seq_df, feature, change):\n",
        "    df = seq_df.copy()\n",
        "    df[feature] = df[feature] + change\n",
        "    data_tensor = torch.tensor(df.values[np.newaxis, :, :], dtype=torch.float32)\n",
        "    with torch.no_grad():\n",
        "        output = model(data_tensor)\n",
        "        probs = F.softmax(output, dim=1).cpu().numpy()[0]\n",
        "        return probs[1]\n",
        "\n",
        "out = Output()\n",
        "\n",
        "def update_dashboard(temp, humidity, pressure, wind, rainfall):\n",
        "\n",
        "    new_seq = last_30_df.copy()\n",
        "    new_seq.iloc[-1] = [temp, humidity, pressure, wind, rainfall]\n",
        "\n",
        "\n",
        "    risk_prob = predict_prob(model, new_seq)\n",
        "\n",
        "    with out:\n",
        "        out.clear_output()\n",
        "        print(f\"Predicted Flood Risk Probability: {risk_prob*100:.1f}% chance of High Flood Risk\")\n",
        "\n",
        "\n",
        "        features = ['Temp','Humidity','Pressure','Wind','Rainfall']\n",
        "        changes = np.linspace(-1, 1, 20)\n",
        "        fig, axes = plt.subplots(2, 3, figsize=(12, 8))\n",
        "\n",
        "        for i, feature in enumerate(features):\n",
        "            probs = [simulate_prob_change(model, last_30_df, feature, c) for c in changes]\n",
        "            ax = axes[i//3, i%3]\n",
        "            ax.plot(changes, probs, marker='*', color='blue')\n",
        "            ax.set_title(f\"{feature}\")\n",
        "            ax.set_xlabel(\"Change (scaled units)\")\n",
        "            ax.set_ylabel(\"High Flood Risk Prob\")\n",
        "            ax.set_ylim(0, 1)\n",
        "            ax.grid(True)\n",
        "\n",
        "        if len(features) < 6:\n",
        "            axes[1,2].axis('off')\n",
        "\n",
        "        plt.tight_layout()\n",
        "        plt.show()\n",
        "\n",
        "sliders = [FloatSlider(min=float(last_30_df[f].min()), max=float(last_30_df[f].max()),\n",
        "                       step=0.01, value=float(last_30_df[f].iloc[-1]), description=f)\n",
        "           for f in ['Temp','Humidity','Pressure','Wind','Rainfall']]\n",
        "\n",
        "interact(update_dashboard, temp=sliders[0], humidity=sliders[1], pressure=sliders[2],\n",
        "         wind=sliders[3], rainfall=sliders[4])\n",
        "\n",
        "VBox([out])\n"
      ]
    },
    {
      "cell_type": "markdown",
      "metadata": {
        "id": "CIZ6i1s81RcD"
      },
      "source": [
        "# **Relevance to SDG 13**\n",
        "## Relevance to SDG 13: Climate Action\n",
        "This project contributes to climate resilience by predicting urban flooding risk in Karachi.  \n",
        "Early warning systems like this can support adaptation strategies and reduce disaster impacts.\n"
      ]
    }
  ],
  "metadata": {
    "colab": {
      "provenance": []
    },
    "kernelspec": {
      "display_name": "Python 3",
      "name": "python3"
    },
    "language_info": {
      "name": "python",
      "version": "3.12.4"
    },
    "widgets": {
      "application/vnd.jupyter.widget-state+json": {
        "012394a67ddb4cd28dc52aa57d5e9951": {
          "model_module": "@jupyter-widgets/controls",
          "model_module_version": "1.5.0",
          "model_name": "FloatSliderModel",
          "state": {
            "_dom_classes": [],
            "_model_module": "@jupyter-widgets/controls",
            "_model_module_version": "1.5.0",
            "_model_name": "FloatSliderModel",
            "_view_count": null,
            "_view_module": "@jupyter-widgets/controls",
            "_view_module_version": "1.5.0",
            "_view_name": "FloatSliderView",
            "continuous_update": true,
            "description": "Rainfall",
            "description_tooltip": null,
            "disabled": false,
            "layout": "IPY_MODEL_cf67c27d2b8847c38e7063499a1d434e",
            "max": 0.00008860535176324651,
            "min": 0,
            "orientation": "horizontal",
            "readout": true,
            "readout_format": ".2f",
            "step": 0.01,
            "style": "IPY_MODEL_4c1a61f82d4e4d7cab50cb198f8e420d",
            "value": 0
          }
        },
        "08053c872129470f84c0bdbd7aa369d0": {
          "model_module": "@jupyter-widgets/controls",
          "model_module_version": "1.5.0",
          "model_name": "SliderStyleModel",
          "state": {
            "_model_module": "@jupyter-widgets/controls",
            "_model_module_version": "1.5.0",
            "_model_name": "SliderStyleModel",
            "_view_count": null,
            "_view_module": "@jupyter-widgets/base",
            "_view_module_version": "1.2.0",
            "_view_name": "StyleView",
            "description_width": "",
            "handle_color": null
          }
        },
        "1d0ce5604fec4135a0d46a6ebd3f4b9b": {
          "model_module": "@jupyter-widgets/base",
          "model_module_version": "1.2.0",
          "model_name": "LayoutModel",
          "state": {
            "_model_module": "@jupyter-widgets/base",
            "_model_module_version": "1.2.0",
            "_model_name": "LayoutModel",
            "_view_count": null,
            "_view_module": "@jupyter-widgets/base",
            "_view_module_version": "1.2.0",
            "_view_name": "LayoutView",
            "align_content": null,
            "align_items": null,
            "align_self": null,
            "border": null,
            "bottom": null,
            "display": null,
            "flex": null,
            "flex_flow": null,
            "grid_area": null,
            "grid_auto_columns": null,
            "grid_auto_flow": null,
            "grid_auto_rows": null,
            "grid_column": null,
            "grid_gap": null,
            "grid_row": null,
            "grid_template_areas": null,
            "grid_template_columns": null,
            "grid_template_rows": null,
            "height": null,
            "justify_content": null,
            "justify_items": null,
            "left": null,
            "margin": null,
            "max_height": null,
            "max_width": null,
            "min_height": null,
            "min_width": null,
            "object_fit": null,
            "object_position": null,
            "order": null,
            "overflow": null,
            "overflow_x": null,
            "overflow_y": null,
            "padding": null,
            "right": null,
            "top": null,
            "visibility": null,
            "width": null
          }
        },
        "2604fbda12fd40e1b51bfa7a94013f19": {
          "model_module": "@jupyter-widgets/output",
          "model_module_version": "1.0.0",
          "model_name": "OutputModel",
          "state": {
            "_dom_classes": [],
            "_model_module": "@jupyter-widgets/output",
            "_model_module_version": "1.0.0",
            "_model_name": "OutputModel",
            "_view_count": null,
            "_view_module": "@jupyter-widgets/output",
            "_view_module_version": "1.0.0",
            "_view_name": "OutputView",
            "layout": "IPY_MODEL_1d0ce5604fec4135a0d46a6ebd3f4b9b",
            "msg_id": "",
            "outputs": [
              {
                "name": "stdout",
                "output_type": "stream",
                "text": [
                  "Predicted Flood Risk Probability: 0.2% chance of High Flood Risk\n"
                ]
              },
              {
                "data": {
                  "image/png": "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\n",
                  "text/plain": "<Figure size 1200x800 with 6 Axes>"
                },
                "metadata": {},
                "output_type": "display_data"
              }
            ]
          }
        },
        "32feab4969c24adfbd63c9577f6deb11": {
          "model_module": "@jupyter-widgets/base",
          "model_module_version": "1.2.0",
          "model_name": "LayoutModel",
          "state": {
            "_model_module": "@jupyter-widgets/base",
            "_model_module_version": "1.2.0",
            "_model_name": "LayoutModel",
            "_view_count": null,
            "_view_module": "@jupyter-widgets/base",
            "_view_module_version": "1.2.0",
            "_view_name": "LayoutView",
            "align_content": null,
            "align_items": null,
            "align_self": null,
            "border": null,
            "bottom": null,
            "display": null,
            "flex": null,
            "flex_flow": null,
            "grid_area": null,
            "grid_auto_columns": null,
            "grid_auto_flow": null,
            "grid_auto_rows": null,
            "grid_column": null,
            "grid_gap": null,
            "grid_row": null,
            "grid_template_areas": null,
            "grid_template_columns": null,
            "grid_template_rows": null,
            "height": null,
            "justify_content": null,
            "justify_items": null,
            "left": null,
            "margin": null,
            "max_height": null,
            "max_width": null,
            "min_height": null,
            "min_width": null,
            "object_fit": null,
            "object_position": null,
            "order": null,
            "overflow": null,
            "overflow_x": null,
            "overflow_y": null,
            "padding": null,
            "right": null,
            "top": null,
            "visibility": null,
            "width": null
          }
        },
        "43b1b365eb3d406c96e665339f1caa26": {
          "model_module": "@jupyter-widgets/controls",
          "model_module_version": "1.5.0",
          "model_name": "SliderStyleModel",
          "state": {
            "_model_module": "@jupyter-widgets/controls",
            "_model_module_version": "1.5.0",
            "_model_name": "SliderStyleModel",
            "_view_count": null,
            "_view_module": "@jupyter-widgets/base",
            "_view_module_version": "1.2.0",
            "_view_name": "StyleView",
            "description_width": "",
            "handle_color": null
          }
        },
        "4883ec1985974369b74b402ca46baa80": {
          "model_module": "@jupyter-widgets/base",
          "model_module_version": "1.2.0",
          "model_name": "LayoutModel",
          "state": {
            "_model_module": "@jupyter-widgets/base",
            "_model_module_version": "1.2.0",
            "_model_name": "LayoutModel",
            "_view_count": null,
            "_view_module": "@jupyter-widgets/base",
            "_view_module_version": "1.2.0",
            "_view_name": "LayoutView",
            "align_content": null,
            "align_items": null,
            "align_self": null,
            "border": null,
            "bottom": null,
            "display": null,
            "flex": null,
            "flex_flow": null,
            "grid_area": null,
            "grid_auto_columns": null,
            "grid_auto_flow": null,
            "grid_auto_rows": null,
            "grid_column": null,
            "grid_gap": null,
            "grid_row": null,
            "grid_template_areas": null,
            "grid_template_columns": null,
            "grid_template_rows": null,
            "height": null,
            "justify_content": null,
            "justify_items": null,
            "left": null,
            "margin": null,
            "max_height": null,
            "max_width": null,
            "min_height": null,
            "min_width": null,
            "object_fit": null,
            "object_position": null,
            "order": null,
            "overflow": null,
            "overflow_x": null,
            "overflow_y": null,
            "padding": null,
            "right": null,
            "top": null,
            "visibility": null,
            "width": null
          }
        },
        "4c1a61f82d4e4d7cab50cb198f8e420d": {
          "model_module": "@jupyter-widgets/controls",
          "model_module_version": "1.5.0",
          "model_name": "SliderStyleModel",
          "state": {
            "_model_module": "@jupyter-widgets/controls",
            "_model_module_version": "1.5.0",
            "_model_name": "SliderStyleModel",
            "_view_count": null,
            "_view_module": "@jupyter-widgets/base",
            "_view_module_version": "1.2.0",
            "_view_name": "StyleView",
            "description_width": "",
            "handle_color": null
          }
        },
        "5a02f2fbbe184e378c460a10b5a27184": {
          "model_module": "@jupyter-widgets/output",
          "model_module_version": "1.0.0",
          "model_name": "OutputModel",
          "state": {
            "_dom_classes": [],
            "_model_module": "@jupyter-widgets/output",
            "_model_module_version": "1.0.0",
            "_model_name": "OutputModel",
            "_view_count": null,
            "_view_module": "@jupyter-widgets/output",
            "_view_module_version": "1.0.0",
            "_view_name": "OutputView",
            "layout": "IPY_MODEL_32feab4969c24adfbd63c9577f6deb11",
            "msg_id": "",
            "outputs": []
          }
        },
        "7aa8dc98d23f450e8a4a2f2dd3ece4e4": {
          "model_module": "@jupyter-widgets/controls",
          "model_module_version": "1.5.0",
          "model_name": "SliderStyleModel",
          "state": {
            "_model_module": "@jupyter-widgets/controls",
            "_model_module_version": "1.5.0",
            "_model_name": "SliderStyleModel",
            "_view_count": null,
            "_view_module": "@jupyter-widgets/base",
            "_view_module_version": "1.2.0",
            "_view_name": "StyleView",
            "description_width": "",
            "handle_color": null
          }
        },
        "7f20d25224104828ae7138583267eb94": {
          "model_module": "@jupyter-widgets/controls",
          "model_module_version": "1.5.0",
          "model_name": "FloatSliderModel",
          "state": {
            "_dom_classes": [],
            "_model_module": "@jupyter-widgets/controls",
            "_model_module_version": "1.5.0",
            "_model_name": "FloatSliderModel",
            "_view_count": null,
            "_view_module": "@jupyter-widgets/controls",
            "_view_module_version": "1.5.0",
            "_view_name": "FloatSliderView",
            "continuous_update": true,
            "description": "Wind",
            "description_tooltip": null,
            "disabled": false,
            "layout": "IPY_MODEL_ee4188aaf102498598012a23957b8243",
            "max": 0.8952702702702666,
            "min": 0.6655405405405403,
            "orientation": "horizontal",
            "readout": true,
            "readout_format": ".2f",
            "step": 0.01,
            "style": "IPY_MODEL_43b1b365eb3d406c96e665339f1caa26",
            "value": 0.8006756756756772
          }
        },
        "8bb4ec7143d14c4fbe60f03fd693099f": {
          "model_module": "@jupyter-widgets/controls",
          "model_module_version": "1.5.0",
          "model_name": "FloatSliderModel",
          "state": {
            "_dom_classes": [],
            "_model_module": "@jupyter-widgets/controls",
            "_model_module_version": "1.5.0",
            "_model_name": "FloatSliderModel",
            "_view_count": null,
            "_view_module": "@jupyter-widgets/controls",
            "_view_module_version": "1.5.0",
            "_view_name": "FloatSliderView",
            "continuous_update": true,
            "description": "Temp",
            "description_tooltip": null,
            "disabled": false,
            "layout": "IPY_MODEL_9fd0434f9ee64201b986a1d741bd1217",
            "max": 0.6428153350892596,
            "min": 0.0828211881767632,
            "orientation": "horizontal",
            "readout": true,
            "readout_format": ".2f",
            "step": 0.01,
            "style": "IPY_MODEL_a00ab1695f704019b9ad5e6b33c4ab39",
            "value": 0.26851038923031895
          }
        },
        "921b6d5529f64496b0d3fd6cb203b47d": {
          "model_module": "@jupyter-widgets/controls",
          "model_module_version": "1.5.0",
          "model_name": "VBoxModel",
          "state": {
            "_dom_classes": [
              "widget-interact"
            ],
            "_model_module": "@jupyter-widgets/controls",
            "_model_module_version": "1.5.0",
            "_model_name": "VBoxModel",
            "_view_count": null,
            "_view_module": "@jupyter-widgets/controls",
            "_view_module_version": "1.5.0",
            "_view_name": "VBoxView",
            "box_style": "",
            "children": [
              "IPY_MODEL_8bb4ec7143d14c4fbe60f03fd693099f",
              "IPY_MODEL_cd21d8020d2a4c1299c0af32d4c0d8e4",
              "IPY_MODEL_ca4e0fea79c643ba8e392b2a235ba527",
              "IPY_MODEL_7f20d25224104828ae7138583267eb94",
              "IPY_MODEL_012394a67ddb4cd28dc52aa57d5e9951",
              "IPY_MODEL_5a02f2fbbe184e378c460a10b5a27184"
            ],
            "layout": "IPY_MODEL_ba59036773d240cb84178b1140a221f4"
          }
        },
        "93d08ccd92a547d19dbbc15f9c2c61a6": {
          "model_module": "@jupyter-widgets/base",
          "model_module_version": "1.2.0",
          "model_name": "LayoutModel",
          "state": {
            "_model_module": "@jupyter-widgets/base",
            "_model_module_version": "1.2.0",
            "_model_name": "LayoutModel",
            "_view_count": null,
            "_view_module": "@jupyter-widgets/base",
            "_view_module_version": "1.2.0",
            "_view_name": "LayoutView",
            "align_content": null,
            "align_items": null,
            "align_self": null,
            "border": null,
            "bottom": null,
            "display": null,
            "flex": null,
            "flex_flow": null,
            "grid_area": null,
            "grid_auto_columns": null,
            "grid_auto_flow": null,
            "grid_auto_rows": null,
            "grid_column": null,
            "grid_gap": null,
            "grid_row": null,
            "grid_template_areas": null,
            "grid_template_columns": null,
            "grid_template_rows": null,
            "height": null,
            "justify_content": null,
            "justify_items": null,
            "left": null,
            "margin": null,
            "max_height": null,
            "max_width": null,
            "min_height": null,
            "min_width": null,
            "object_fit": null,
            "object_position": null,
            "order": null,
            "overflow": null,
            "overflow_x": null,
            "overflow_y": null,
            "padding": null,
            "right": null,
            "top": null,
            "visibility": null,
            "width": null
          }
        },
        "9fd0434f9ee64201b986a1d741bd1217": {
          "model_module": "@jupyter-widgets/base",
          "model_module_version": "1.2.0",
          "model_name": "LayoutModel",
          "state": {
            "_model_module": "@jupyter-widgets/base",
            "_model_module_version": "1.2.0",
            "_model_name": "LayoutModel",
            "_view_count": null,
            "_view_module": "@jupyter-widgets/base",
            "_view_module_version": "1.2.0",
            "_view_name": "LayoutView",
            "align_content": null,
            "align_items": null,
            "align_self": null,
            "border": null,
            "bottom": null,
            "display": null,
            "flex": null,
            "flex_flow": null,
            "grid_area": null,
            "grid_auto_columns": null,
            "grid_auto_flow": null,
            "grid_auto_rows": null,
            "grid_column": null,
            "grid_gap": null,
            "grid_row": null,
            "grid_template_areas": null,
            "grid_template_columns": null,
            "grid_template_rows": null,
            "height": null,
            "justify_content": null,
            "justify_items": null,
            "left": null,
            "margin": null,
            "max_height": null,
            "max_width": null,
            "min_height": null,
            "min_width": null,
            "object_fit": null,
            "object_position": null,
            "order": null,
            "overflow": null,
            "overflow_x": null,
            "overflow_y": null,
            "padding": null,
            "right": null,
            "top": null,
            "visibility": null,
            "width": null
          }
        },
        "a00ab1695f704019b9ad5e6b33c4ab39": {
          "model_module": "@jupyter-widgets/controls",
          "model_module_version": "1.5.0",
          "model_name": "SliderStyleModel",
          "state": {
            "_model_module": "@jupyter-widgets/controls",
            "_model_module_version": "1.5.0",
            "_model_name": "SliderStyleModel",
            "_view_count": null,
            "_view_module": "@jupyter-widgets/base",
            "_view_module_version": "1.2.0",
            "_view_name": "StyleView",
            "description_width": "",
            "handle_color": null
          }
        },
        "b80d6c879066429a940f17b6664629bc": {
          "model_module": "@jupyter-widgets/base",
          "model_module_version": "1.2.0",
          "model_name": "LayoutModel",
          "state": {
            "_model_module": "@jupyter-widgets/base",
            "_model_module_version": "1.2.0",
            "_model_name": "LayoutModel",
            "_view_count": null,
            "_view_module": "@jupyter-widgets/base",
            "_view_module_version": "1.2.0",
            "_view_name": "LayoutView",
            "align_content": null,
            "align_items": null,
            "align_self": null,
            "border": null,
            "bottom": null,
            "display": null,
            "flex": null,
            "flex_flow": null,
            "grid_area": null,
            "grid_auto_columns": null,
            "grid_auto_flow": null,
            "grid_auto_rows": null,
            "grid_column": null,
            "grid_gap": null,
            "grid_row": null,
            "grid_template_areas": null,
            "grid_template_columns": null,
            "grid_template_rows": null,
            "height": null,
            "justify_content": null,
            "justify_items": null,
            "left": null,
            "margin": null,
            "max_height": null,
            "max_width": null,
            "min_height": null,
            "min_width": null,
            "object_fit": null,
            "object_position": null,
            "order": null,
            "overflow": null,
            "overflow_x": null,
            "overflow_y": null,
            "padding": null,
            "right": null,
            "top": null,
            "visibility": null,
            "width": null
          }
        },
        "ba59036773d240cb84178b1140a221f4": {
          "model_module": "@jupyter-widgets/base",
          "model_module_version": "1.2.0",
          "model_name": "LayoutModel",
          "state": {
            "_model_module": "@jupyter-widgets/base",
            "_model_module_version": "1.2.0",
            "_model_name": "LayoutModel",
            "_view_count": null,
            "_view_module": "@jupyter-widgets/base",
            "_view_module_version": "1.2.0",
            "_view_name": "LayoutView",
            "align_content": null,
            "align_items": null,
            "align_self": null,
            "border": null,
            "bottom": null,
            "display": null,
            "flex": null,
            "flex_flow": null,
            "grid_area": null,
            "grid_auto_columns": null,
            "grid_auto_flow": null,
            "grid_auto_rows": null,
            "grid_column": null,
            "grid_gap": null,
            "grid_row": null,
            "grid_template_areas": null,
            "grid_template_columns": null,
            "grid_template_rows": null,
            "height": null,
            "justify_content": null,
            "justify_items": null,
            "left": null,
            "margin": null,
            "max_height": null,
            "max_width": null,
            "min_height": null,
            "min_width": null,
            "object_fit": null,
            "object_position": null,
            "order": null,
            "overflow": null,
            "overflow_x": null,
            "overflow_y": null,
            "padding": null,
            "right": null,
            "top": null,
            "visibility": null,
            "width": null
          }
        },
        "ca4e0fea79c643ba8e392b2a235ba527": {
          "model_module": "@jupyter-widgets/controls",
          "model_module_version": "1.5.0",
          "model_name": "FloatSliderModel",
          "state": {
            "_dom_classes": [],
            "_model_module": "@jupyter-widgets/controls",
            "_model_module_version": "1.5.0",
            "_model_name": "FloatSliderModel",
            "_view_count": null,
            "_view_module": "@jupyter-widgets/controls",
            "_view_module_version": "1.5.0",
            "_view_name": "FloatSliderView",
            "continuous_update": true,
            "description": "Pressure",
            "description_tooltip": null,
            "disabled": false,
            "layout": "IPY_MODEL_b80d6c879066429a940f17b6664629bc",
            "max": 0.4430441105186621,
            "min": 0.3194377120698012,
            "orientation": "horizontal",
            "readout": true,
            "readout_format": ".2f",
            "step": 0.01,
            "style": "IPY_MODEL_08053c872129470f84c0bdbd7aa369d0",
            "value": 0.36645661657779927
          }
        },
        "cd21d8020d2a4c1299c0af32d4c0d8e4": {
          "model_module": "@jupyter-widgets/controls",
          "model_module_version": "1.5.0",
          "model_name": "FloatSliderModel",
          "state": {
            "_dom_classes": [],
            "_model_module": "@jupyter-widgets/controls",
            "_model_module_version": "1.5.0",
            "_model_name": "FloatSliderModel",
            "_view_count": null,
            "_view_module": "@jupyter-widgets/controls",
            "_view_module_version": "1.5.0",
            "_view_name": "FloatSliderView",
            "continuous_update": true,
            "description": "Humidity",
            "description_tooltip": null,
            "disabled": false,
            "layout": "IPY_MODEL_4883ec1985974369b74b402ca46baa80",
            "max": 0.3610785463071513,
            "min": 0.0504103165298945,
            "orientation": "horizontal",
            "readout": true,
            "readout_format": ".2f",
            "step": 0.01,
            "style": "IPY_MODEL_7aa8dc98d23f450e8a4a2f2dd3ece4e4",
            "value": 0.062133645955451344
          }
        },
        "cf67c27d2b8847c38e7063499a1d434e": {
          "model_module": "@jupyter-widgets/base",
          "model_module_version": "1.2.0",
          "model_name": "LayoutModel",
          "state": {
            "_model_module": "@jupyter-widgets/base",
            "_model_module_version": "1.2.0",
            "_model_name": "LayoutModel",
            "_view_count": null,
            "_view_module": "@jupyter-widgets/base",
            "_view_module_version": "1.2.0",
            "_view_name": "LayoutView",
            "align_content": null,
            "align_items": null,
            "align_self": null,
            "border": null,
            "bottom": null,
            "display": null,
            "flex": null,
            "flex_flow": null,
            "grid_area": null,
            "grid_auto_columns": null,
            "grid_auto_flow": null,
            "grid_auto_rows": null,
            "grid_column": null,
            "grid_gap": null,
            "grid_row": null,
            "grid_template_areas": null,
            "grid_template_columns": null,
            "grid_template_rows": null,
            "height": null,
            "justify_content": null,
            "justify_items": null,
            "left": null,
            "margin": null,
            "max_height": null,
            "max_width": null,
            "min_height": null,
            "min_width": null,
            "object_fit": null,
            "object_position": null,
            "order": null,
            "overflow": null,
            "overflow_x": null,
            "overflow_y": null,
            "padding": null,
            "right": null,
            "top": null,
            "visibility": null,
            "width": null
          }
        },
        "ee4188aaf102498598012a23957b8243": {
          "model_module": "@jupyter-widgets/base",
          "model_module_version": "1.2.0",
          "model_name": "LayoutModel",
          "state": {
            "_model_module": "@jupyter-widgets/base",
            "_model_module_version": "1.2.0",
            "_model_name": "LayoutModel",
            "_view_count": null,
            "_view_module": "@jupyter-widgets/base",
            "_view_module_version": "1.2.0",
            "_view_name": "LayoutView",
            "align_content": null,
            "align_items": null,
            "align_self": null,
            "border": null,
            "bottom": null,
            "display": null,
            "flex": null,
            "flex_flow": null,
            "grid_area": null,
            "grid_auto_columns": null,
            "grid_auto_flow": null,
            "grid_auto_rows": null,
            "grid_column": null,
            "grid_gap": null,
            "grid_row": null,
            "grid_template_areas": null,
            "grid_template_columns": null,
            "grid_template_rows": null,
            "height": null,
            "justify_content": null,
            "justify_items": null,
            "left": null,
            "margin": null,
            "max_height": null,
            "max_width": null,
            "min_height": null,
            "min_width": null,
            "object_fit": null,
            "object_position": null,
            "order": null,
            "overflow": null,
            "overflow_x": null,
            "overflow_y": null,
            "padding": null,
            "right": null,
            "top": null,
            "visibility": null,
            "width": null
          }
        },
        "fe97493b7302431e9d23927acd9adee9": {
          "model_module": "@jupyter-widgets/controls",
          "model_module_version": "1.5.0",
          "model_name": "VBoxModel",
          "state": {
            "_dom_classes": [],
            "_model_module": "@jupyter-widgets/controls",
            "_model_module_version": "1.5.0",
            "_model_name": "VBoxModel",
            "_view_count": null,
            "_view_module": "@jupyter-widgets/controls",
            "_view_module_version": "1.5.0",
            "_view_name": "VBoxView",
            "box_style": "",
            "children": [
              "IPY_MODEL_2604fbda12fd40e1b51bfa7a94013f19"
            ],
            "layout": "IPY_MODEL_93d08ccd92a547d19dbbc15f9c2c61a6"
          }
        }
      }
    }
  },
  "nbformat": 4,
  "nbformat_minor": 0
}
