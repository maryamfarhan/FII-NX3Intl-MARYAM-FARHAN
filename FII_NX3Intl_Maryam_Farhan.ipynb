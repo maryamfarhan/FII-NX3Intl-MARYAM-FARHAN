{
  "nbformat": 4,
  "nbformat_minor": 0,
  "metadata": {
    "colab": {
      "provenance": []
    },
    "kernelspec": {
      "name": "python3",
      "display_name": "Python 3"
    },
    "language_info": {
      "name": "python"
    },
    "widgets": {
      "application/vnd.jupyter.widget-state+json": {
        "862ed2e6ebeb44d4b96c6e0587474c4b": {
          "model_module": "@jupyter-widgets/controls",
          "model_name": "VBoxModel",
          "model_module_version": "1.5.0",
          "state": {
            "_dom_classes": [
              "widget-interact"
            ],
            "_model_module": "@jupyter-widgets/controls",
            "_model_module_version": "1.5.0",
            "_model_name": "VBoxModel",
            "_view_count": null,
            "_view_module": "@jupyter-widgets/controls",
            "_view_module_version": "1.5.0",
            "_view_name": "VBoxView",
            "box_style": "",
            "children": [
              "IPY_MODEL_0005244a3e244f3aa49dfcc82e4ce258",
              "IPY_MODEL_74f5b29828f04bbc873c37cb7eef584a",
              "IPY_MODEL_d214288c56f2459693f396eea135eedf",
              "IPY_MODEL_e088320964bb44e8ba13f61306f549d0",
              "IPY_MODEL_8d5085ef5c204a64a6928e39d3a148f9",
              "IPY_MODEL_283e905c77cf4342918df02182a3c14a"
            ],
            "layout": "IPY_MODEL_7ee9d7e734f04b02b83a59585484d211"
          }
        },
        "0005244a3e244f3aa49dfcc82e4ce258": {
          "model_module": "@jupyter-widgets/controls",
          "model_name": "FloatSliderModel",
          "model_module_version": "1.5.0",
          "state": {
            "_dom_classes": [],
            "_model_module": "@jupyter-widgets/controls",
            "_model_module_version": "1.5.0",
            "_model_name": "FloatSliderModel",
            "_view_count": null,
            "_view_module": "@jupyter-widgets/controls",
            "_view_module_version": "1.5.0",
            "_view_name": "FloatSliderView",
            "continuous_update": true,
            "description": "Temp",
            "description_tooltip": null,
            "disabled": false,
            "layout": "IPY_MODEL_105c6f1551ad452286fd41b6b29aa4e1",
            "max": 0.3610785463071513,
            "min": 0.0504103165298945,
            "orientation": "horizontal",
            "readout": true,
            "readout_format": ".2f",
            "step": 0.01,
            "style": "IPY_MODEL_d432eb483a734c3c8d1059bcd7580e92",
            "value": 0.062133645955451344
          }
        },
        "74f5b29828f04bbc873c37cb7eef584a": {
          "model_module": "@jupyter-widgets/controls",
          "model_name": "FloatSliderModel",
          "model_module_version": "1.5.0",
          "state": {
            "_dom_classes": [],
            "_model_module": "@jupyter-widgets/controls",
            "_model_module_version": "1.5.0",
            "_model_name": "FloatSliderModel",
            "_view_count": null,
            "_view_module": "@jupyter-widgets/controls",
            "_view_module_version": "1.5.0",
            "_view_name": "FloatSliderView",
            "continuous_update": true,
            "description": "Humidity",
            "description_tooltip": null,
            "disabled": false,
            "layout": "IPY_MODEL_d527c0388ba248389b82c75781a4ee6d",
            "max": 0.4430441105186621,
            "min": 0.3194377120698012,
            "orientation": "horizontal",
            "readout": true,
            "readout_format": ".2f",
            "step": 0.01,
            "style": "IPY_MODEL_ca43f85d9b9d4150940a935c770bb49d",
            "value": 0.36645661657779927
          }
        },
        "d214288c56f2459693f396eea135eedf": {
          "model_module": "@jupyter-widgets/controls",
          "model_name": "FloatSliderModel",
          "model_module_version": "1.5.0",
          "state": {
            "_dom_classes": [],
            "_model_module": "@jupyter-widgets/controls",
            "_model_module_version": "1.5.0",
            "_model_name": "FloatSliderModel",
            "_view_count": null,
            "_view_module": "@jupyter-widgets/controls",
            "_view_module_version": "1.5.0",
            "_view_name": "FloatSliderView",
            "continuous_update": true,
            "description": "Pressure",
            "description_tooltip": null,
            "disabled": false,
            "layout": "IPY_MODEL_f44a53ef6341483ba0ee65c865e3eb99",
            "max": 0.8952702702702666,
            "min": 0.6655405405405403,
            "orientation": "horizontal",
            "readout": true,
            "readout_format": ".2f",
            "step": 0.01,
            "style": "IPY_MODEL_d24781d5cc8a4bae8294e64f4d52789e",
            "value": 0.8006756756756772
          }
        },
        "e088320964bb44e8ba13f61306f549d0": {
          "model_module": "@jupyter-widgets/controls",
          "model_name": "FloatSliderModel",
          "model_module_version": "1.5.0",
          "state": {
            "_dom_classes": [],
            "_model_module": "@jupyter-widgets/controls",
            "_model_module_version": "1.5.0",
            "_model_name": "FloatSliderModel",
            "_view_count": null,
            "_view_module": "@jupyter-widgets/controls",
            "_view_module_version": "1.5.0",
            "_view_name": "FloatSliderView",
            "continuous_update": true,
            "description": "Wind",
            "description_tooltip": null,
            "disabled": false,
            "layout": "IPY_MODEL_56853ccb0a2648eeaac704e69fb593eb",
            "max": 0.6428153350892596,
            "min": 0.0828211881767632,
            "orientation": "horizontal",
            "readout": true,
            "readout_format": ".2f",
            "step": 0.01,
            "style": "IPY_MODEL_6015b801578d4238919b5c0eed7ade55",
            "value": 0.26851038923031895
          }
        },
        "8d5085ef5c204a64a6928e39d3a148f9": {
          "model_module": "@jupyter-widgets/controls",
          "model_name": "FloatSliderModel",
          "model_module_version": "1.5.0",
          "state": {
            "_dom_classes": [],
            "_model_module": "@jupyter-widgets/controls",
            "_model_module_version": "1.5.0",
            "_model_name": "FloatSliderModel",
            "_view_count": null,
            "_view_module": "@jupyter-widgets/controls",
            "_view_module_version": "1.5.0",
            "_view_name": "FloatSliderView",
            "continuous_update": true,
            "description": "Rainfall",
            "description_tooltip": null,
            "disabled": false,
            "layout": "IPY_MODEL_84bafbd70278469081ba89e657ee6e82",
            "max": 0.00008860535176324651,
            "min": 0,
            "orientation": "horizontal",
            "readout": true,
            "readout_format": ".2f",
            "step": 0.01,
            "style": "IPY_MODEL_236a458e11cf48e394410c7e40f1b62b",
            "value": 0
          }
        },
        "283e905c77cf4342918df02182a3c14a": {
          "model_module": "@jupyter-widgets/output",
          "model_name": "OutputModel",
          "model_module_version": "1.0.0",
          "state": {
            "_dom_classes": [],
            "_model_module": "@jupyter-widgets/output",
            "_model_module_version": "1.0.0",
            "_model_name": "OutputModel",
            "_view_count": null,
            "_view_module": "@jupyter-widgets/output",
            "_view_module_version": "1.0.0",
            "_view_name": "OutputView",
            "layout": "IPY_MODEL_ad14611957a14ecca7c6d9e65f652353",
            "msg_id": "",
            "outputs": []
          }
        },
        "7ee9d7e734f04b02b83a59585484d211": {
          "model_module": "@jupyter-widgets/base",
          "model_name": "LayoutModel",
          "model_module_version": "1.2.0",
          "state": {
            "_model_module": "@jupyter-widgets/base",
            "_model_module_version": "1.2.0",
            "_model_name": "LayoutModel",
            "_view_count": null,
            "_view_module": "@jupyter-widgets/base",
            "_view_module_version": "1.2.0",
            "_view_name": "LayoutView",
            "align_content": null,
            "align_items": null,
            "align_self": null,
            "border": null,
            "bottom": null,
            "display": null,
            "flex": null,
            "flex_flow": null,
            "grid_area": null,
            "grid_auto_columns": null,
            "grid_auto_flow": null,
            "grid_auto_rows": null,
            "grid_column": null,
            "grid_gap": null,
            "grid_row": null,
            "grid_template_areas": null,
            "grid_template_columns": null,
            "grid_template_rows": null,
            "height": null,
            "justify_content": null,
            "justify_items": null,
            "left": null,
            "margin": null,
            "max_height": null,
            "max_width": null,
            "min_height": null,
            "min_width": null,
            "object_fit": null,
            "object_position": null,
            "order": null,
            "overflow": null,
            "overflow_x": null,
            "overflow_y": null,
            "padding": null,
            "right": null,
            "top": null,
            "visibility": null,
            "width": null
          }
        },
        "105c6f1551ad452286fd41b6b29aa4e1": {
          "model_module": "@jupyter-widgets/base",
          "model_name": "LayoutModel",
          "model_module_version": "1.2.0",
          "state": {
            "_model_module": "@jupyter-widgets/base",
            "_model_module_version": "1.2.0",
            "_model_name": "LayoutModel",
            "_view_count": null,
            "_view_module": "@jupyter-widgets/base",
            "_view_module_version": "1.2.0",
            "_view_name": "LayoutView",
            "align_content": null,
            "align_items": null,
            "align_self": null,
            "border": null,
            "bottom": null,
            "display": null,
            "flex": null,
            "flex_flow": null,
            "grid_area": null,
            "grid_auto_columns": null,
            "grid_auto_flow": null,
            "grid_auto_rows": null,
            "grid_column": null,
            "grid_gap": null,
            "grid_row": null,
            "grid_template_areas": null,
            "grid_template_columns": null,
            "grid_template_rows": null,
            "height": null,
            "justify_content": null,
            "justify_items": null,
            "left": null,
            "margin": null,
            "max_height": null,
            "max_width": null,
            "min_height": null,
            "min_width": null,
            "object_fit": null,
            "object_position": null,
            "order": null,
            "overflow": null,
            "overflow_x": null,
            "overflow_y": null,
            "padding": null,
            "right": null,
            "top": null,
            "visibility": null,
            "width": null
          }
        },
        "d432eb483a734c3c8d1059bcd7580e92": {
          "model_module": "@jupyter-widgets/controls",
          "model_name": "SliderStyleModel",
          "model_module_version": "1.5.0",
          "state": {
            "_model_module": "@jupyter-widgets/controls",
            "_model_module_version": "1.5.0",
            "_model_name": "SliderStyleModel",
            "_view_count": null,
            "_view_module": "@jupyter-widgets/base",
            "_view_module_version": "1.2.0",
            "_view_name": "StyleView",
            "description_width": "",
            "handle_color": null
          }
        },
        "d527c0388ba248389b82c75781a4ee6d": {
          "model_module": "@jupyter-widgets/base",
          "model_name": "LayoutModel",
          "model_module_version": "1.2.0",
          "state": {
            "_model_module": "@jupyter-widgets/base",
            "_model_module_version": "1.2.0",
            "_model_name": "LayoutModel",
            "_view_count": null,
            "_view_module": "@jupyter-widgets/base",
            "_view_module_version": "1.2.0",
            "_view_name": "LayoutView",
            "align_content": null,
            "align_items": null,
            "align_self": null,
            "border": null,
            "bottom": null,
            "display": null,
            "flex": null,
            "flex_flow": null,
            "grid_area": null,
            "grid_auto_columns": null,
            "grid_auto_flow": null,
            "grid_auto_rows": null,
            "grid_column": null,
            "grid_gap": null,
            "grid_row": null,
            "grid_template_areas": null,
            "grid_template_columns": null,
            "grid_template_rows": null,
            "height": null,
            "justify_content": null,
            "justify_items": null,
            "left": null,
            "margin": null,
            "max_height": null,
            "max_width": null,
            "min_height": null,
            "min_width": null,
            "object_fit": null,
            "object_position": null,
            "order": null,
            "overflow": null,
            "overflow_x": null,
            "overflow_y": null,
            "padding": null,
            "right": null,
            "top": null,
            "visibility": null,
            "width": null
          }
        },
        "ca43f85d9b9d4150940a935c770bb49d": {
          "model_module": "@jupyter-widgets/controls",
          "model_name": "SliderStyleModel",
          "model_module_version": "1.5.0",
          "state": {
            "_model_module": "@jupyter-widgets/controls",
            "_model_module_version": "1.5.0",
            "_model_name": "SliderStyleModel",
            "_view_count": null,
            "_view_module": "@jupyter-widgets/base",
            "_view_module_version": "1.2.0",
            "_view_name": "StyleView",
            "description_width": "",
            "handle_color": null
          }
        },
        "f44a53ef6341483ba0ee65c865e3eb99": {
          "model_module": "@jupyter-widgets/base",
          "model_name": "LayoutModel",
          "model_module_version": "1.2.0",
          "state": {
            "_model_module": "@jupyter-widgets/base",
            "_model_module_version": "1.2.0",
            "_model_name": "LayoutModel",
            "_view_count": null,
            "_view_module": "@jupyter-widgets/base",
            "_view_module_version": "1.2.0",
            "_view_name": "LayoutView",
            "align_content": null,
            "align_items": null,
            "align_self": null,
            "border": null,
            "bottom": null,
            "display": null,
            "flex": null,
            "flex_flow": null,
            "grid_area": null,
            "grid_auto_columns": null,
            "grid_auto_flow": null,
            "grid_auto_rows": null,
            "grid_column": null,
            "grid_gap": null,
            "grid_row": null,
            "grid_template_areas": null,
            "grid_template_columns": null,
            "grid_template_rows": null,
            "height": null,
            "justify_content": null,
            "justify_items": null,
            "left": null,
            "margin": null,
            "max_height": null,
            "max_width": null,
            "min_height": null,
            "min_width": null,
            "object_fit": null,
            "object_position": null,
            "order": null,
            "overflow": null,
            "overflow_x": null,
            "overflow_y": null,
            "padding": null,
            "right": null,
            "top": null,
            "visibility": null,
            "width": null
          }
        },
        "d24781d5cc8a4bae8294e64f4d52789e": {
          "model_module": "@jupyter-widgets/controls",
          "model_name": "SliderStyleModel",
          "model_module_version": "1.5.0",
          "state": {
            "_model_module": "@jupyter-widgets/controls",
            "_model_module_version": "1.5.0",
            "_model_name": "SliderStyleModel",
            "_view_count": null,
            "_view_module": "@jupyter-widgets/base",
            "_view_module_version": "1.2.0",
            "_view_name": "StyleView",
            "description_width": "",
            "handle_color": null
          }
        },
        "56853ccb0a2648eeaac704e69fb593eb": {
          "model_module": "@jupyter-widgets/base",
          "model_name": "LayoutModel",
          "model_module_version": "1.2.0",
          "state": {
            "_model_module": "@jupyter-widgets/base",
            "_model_module_version": "1.2.0",
            "_model_name": "LayoutModel",
            "_view_count": null,
            "_view_module": "@jupyter-widgets/base",
            "_view_module_version": "1.2.0",
            "_view_name": "LayoutView",
            "align_content": null,
            "align_items": null,
            "align_self": null,
            "border": null,
            "bottom": null,
            "display": null,
            "flex": null,
            "flex_flow": null,
            "grid_area": null,
            "grid_auto_columns": null,
            "grid_auto_flow": null,
            "grid_auto_rows": null,
            "grid_column": null,
            "grid_gap": null,
            "grid_row": null,
            "grid_template_areas": null,
            "grid_template_columns": null,
            "grid_template_rows": null,
            "height": null,
            "justify_content": null,
            "justify_items": null,
            "left": null,
            "margin": null,
            "max_height": null,
            "max_width": null,
            "min_height": null,
            "min_width": null,
            "object_fit": null,
            "object_position": null,
            "order": null,
            "overflow": null,
            "overflow_x": null,
            "overflow_y": null,
            "padding": null,
            "right": null,
            "top": null,
            "visibility": null,
            "width": null
          }
        },
        "6015b801578d4238919b5c0eed7ade55": {
          "model_module": "@jupyter-widgets/controls",
          "model_name": "SliderStyleModel",
          "model_module_version": "1.5.0",
          "state": {
            "_model_module": "@jupyter-widgets/controls",
            "_model_module_version": "1.5.0",
            "_model_name": "SliderStyleModel",
            "_view_count": null,
            "_view_module": "@jupyter-widgets/base",
            "_view_module_version": "1.2.0",
            "_view_name": "StyleView",
            "description_width": "",
            "handle_color": null
          }
        },
        "84bafbd70278469081ba89e657ee6e82": {
          "model_module": "@jupyter-widgets/base",
          "model_name": "LayoutModel",
          "model_module_version": "1.2.0",
          "state": {
            "_model_module": "@jupyter-widgets/base",
            "_model_module_version": "1.2.0",
            "_model_name": "LayoutModel",
            "_view_count": null,
            "_view_module": "@jupyter-widgets/base",
            "_view_module_version": "1.2.0",
            "_view_name": "LayoutView",
            "align_content": null,
            "align_items": null,
            "align_self": null,
            "border": null,
            "bottom": null,
            "display": null,
            "flex": null,
            "flex_flow": null,
            "grid_area": null,
            "grid_auto_columns": null,
            "grid_auto_flow": null,
            "grid_auto_rows": null,
            "grid_column": null,
            "grid_gap": null,
            "grid_row": null,
            "grid_template_areas": null,
            "grid_template_columns": null,
            "grid_template_rows": null,
            "height": null,
            "justify_content": null,
            "justify_items": null,
            "left": null,
            "margin": null,
            "max_height": null,
            "max_width": null,
            "min_height": null,
            "min_width": null,
            "object_fit": null,
            "object_position": null,
            "order": null,
            "overflow": null,
            "overflow_x": null,
            "overflow_y": null,
            "padding": null,
            "right": null,
            "top": null,
            "visibility": null,
            "width": null
          }
        },
        "236a458e11cf48e394410c7e40f1b62b": {
          "model_module": "@jupyter-widgets/controls",
          "model_name": "SliderStyleModel",
          "model_module_version": "1.5.0",
          "state": {
            "_model_module": "@jupyter-widgets/controls",
            "_model_module_version": "1.5.0",
            "_model_name": "SliderStyleModel",
            "_view_count": null,
            "_view_module": "@jupyter-widgets/base",
            "_view_module_version": "1.2.0",
            "_view_name": "StyleView",
            "description_width": "",
            "handle_color": null
          }
        },
        "ad14611957a14ecca7c6d9e65f652353": {
          "model_module": "@jupyter-widgets/base",
          "model_name": "LayoutModel",
          "model_module_version": "1.2.0",
          "state": {
            "_model_module": "@jupyter-widgets/base",
            "_model_module_version": "1.2.0",
            "_model_name": "LayoutModel",
            "_view_count": null,
            "_view_module": "@jupyter-widgets/base",
            "_view_module_version": "1.2.0",
            "_view_name": "LayoutView",
            "align_content": null,
            "align_items": null,
            "align_self": null,
            "border": null,
            "bottom": null,
            "display": null,
            "flex": null,
            "flex_flow": null,
            "grid_area": null,
            "grid_auto_columns": null,
            "grid_auto_flow": null,
            "grid_auto_rows": null,
            "grid_column": null,
            "grid_gap": null,
            "grid_row": null,
            "grid_template_areas": null,
            "grid_template_columns": null,
            "grid_template_rows": null,
            "height": null,
            "justify_content": null,
            "justify_items": null,
            "left": null,
            "margin": null,
            "max_height": null,
            "max_width": null,
            "min_height": null,
            "min_width": null,
            "object_fit": null,
            "object_position": null,
            "order": null,
            "overflow": null,
            "overflow_x": null,
            "overflow_y": null,
            "padding": null,
            "right": null,
            "top": null,
            "visibility": null,
            "width": null
          }
        },
        "582ed6a151f745b49f13194ac6d2cd16": {
          "model_module": "@jupyter-widgets/controls",
          "model_name": "VBoxModel",
          "model_module_version": "1.5.0",
          "state": {
            "_dom_classes": [],
            "_model_module": "@jupyter-widgets/controls",
            "_model_module_version": "1.5.0",
            "_model_name": "VBoxModel",
            "_view_count": null,
            "_view_module": "@jupyter-widgets/controls",
            "_view_module_version": "1.5.0",
            "_view_name": "VBoxView",
            "box_style": "",
            "children": [
              "IPY_MODEL_70ec5fa3c80c4d028ed017bb43cc206b"
            ],
            "layout": "IPY_MODEL_4f33f8fe4275420b87db98ef3da043ae"
          }
        },
        "70ec5fa3c80c4d028ed017bb43cc206b": {
          "model_module": "@jupyter-widgets/output",
          "model_name": "OutputModel",
          "model_module_version": "1.0.0",
          "state": {
            "_dom_classes": [],
            "_model_module": "@jupyter-widgets/output",
            "_model_module_version": "1.0.0",
            "_model_name": "OutputModel",
            "_view_count": null,
            "_view_module": "@jupyter-widgets/output",
            "_view_module_version": "1.0.0",
            "_view_name": "OutputView",
            "layout": "IPY_MODEL_9523dd524e24436eaf148d1992bca1e1",
            "msg_id": "",
            "outputs": [
              {
                "output_type": "stream",
                "name": "stdout",
                "text": [
                  "Predicted Flood Risk Probability: 0.2% chance of High Flood Risk\n"
                ]
              },
              {
                "output_type": "display_data",
                "data": {
                  "text/plain": "<Figure size 1200x800 with 6 Axes>",
                  "image/png": "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\n"
                },
                "metadata": {}
              }
            ]
          }
        },
        "4f33f8fe4275420b87db98ef3da043ae": {
          "model_module": "@jupyter-widgets/base",
          "model_name": "LayoutModel",
          "model_module_version": "1.2.0",
          "state": {
            "_model_module": "@jupyter-widgets/base",
            "_model_module_version": "1.2.0",
            "_model_name": "LayoutModel",
            "_view_count": null,
            "_view_module": "@jupyter-widgets/base",
            "_view_module_version": "1.2.0",
            "_view_name": "LayoutView",
            "align_content": null,
            "align_items": null,
            "align_self": null,
            "border": null,
            "bottom": null,
            "display": null,
            "flex": null,
            "flex_flow": null,
            "grid_area": null,
            "grid_auto_columns": null,
            "grid_auto_flow": null,
            "grid_auto_rows": null,
            "grid_column": null,
            "grid_gap": null,
            "grid_row": null,
            "grid_template_areas": null,
            "grid_template_columns": null,
            "grid_template_rows": null,
            "height": null,
            "justify_content": null,
            "justify_items": null,
            "left": null,
            "margin": null,
            "max_height": null,
            "max_width": null,
            "min_height": null,
            "min_width": null,
            "object_fit": null,
            "object_position": null,
            "order": null,
            "overflow": null,
            "overflow_x": null,
            "overflow_y": null,
            "padding": null,
            "right": null,
            "top": null,
            "visibility": null,
            "width": null
          }
        },
        "9523dd524e24436eaf148d1992bca1e1": {
          "model_module": "@jupyter-widgets/base",
          "model_name": "LayoutModel",
          "model_module_version": "1.2.0",
          "state": {
            "_model_module": "@jupyter-widgets/base",
            "_model_module_version": "1.2.0",
            "_model_name": "LayoutModel",
            "_view_count": null,
            "_view_module": "@jupyter-widgets/base",
            "_view_module_version": "1.2.0",
            "_view_name": "LayoutView",
            "align_content": null,
            "align_items": null,
            "align_self": null,
            "border": null,
            "bottom": null,
            "display": null,
            "flex": null,
            "flex_flow": null,
            "grid_area": null,
            "grid_auto_columns": null,
            "grid_auto_flow": null,
            "grid_auto_rows": null,
            "grid_column": null,
            "grid_gap": null,
            "grid_row": null,
            "grid_template_areas": null,
            "grid_template_columns": null,
            "grid_template_rows": null,
            "height": null,
            "justify_content": null,
            "justify_items": null,
            "left": null,
            "margin": null,
            "max_height": null,
            "max_width": null,
            "min_height": null,
            "min_width": null,
            "object_fit": null,
            "object_position": null,
            "order": null,
            "overflow": null,
            "overflow_x": null,
            "overflow_y": null,
            "padding": null,
            "right": null,
            "top": null,
            "visibility": null,
            "width": null
          }
        }
      }
    }
  },
  "cells": [
    {
      "cell_type": "markdown",
      "source": [
        "# **Introduction**\n",
        "# Flood Risk Prediction for Karachi\n",
        "Using LSTM deep learning to predict urban flooding risk based on weather data.  \n",
        "Aligned with SDG 13: Climate Action."
      ],
      "metadata": {
        "id": "BWnnkttqx53l"
      }
    },
    {
      "cell_type": "code",
      "execution_count": 30,
      "metadata": {
        "colab": {
          "base_uri": "https://localhost:8080/"
        },
        "id": "_khm2xZSsWnJ",
        "outputId": "eab82f58-905b-4f86-a6e3-fc998845336d"
      },
      "outputs": [
        {
          "output_type": "stream",
          "name": "stdout",
          "text": [
            "                                   -END HEADER-\n",
            "YEAR MO DY WS2M T2M   PS     RH2M   PRECTOTCORR\n",
            "2010 1  1  1.94 20.37 100.88 47.84          0.0\n",
            "        2  3.05 20.81 100.91 43.02         0.11\n",
            "        3  1.93 20.86 101.18 56.42          0.0\n",
            "        4  2.19 20.13 101.21 54.88          0.0\n"
          ]
        }
      ],
      "source": [
        "import requests\n",
        "import pandas as pd\n",
        "\n",
        "\n",
        "url = (\"https://power.larc.nasa.gov/api/temporal/daily/point\"\n",
        "       \"?parameters=PRECTOT,T2M,RH2M,WS2M,PS\"\n",
        "       \"&community=RE\"\n",
        "       \"&longitude=67.0099&latitude=24.8607\"\n",
        "       \"&start=2010&end=2023\"\n",
        "       \"&format=CSV\")\n",
        "\n",
        "response = requests.get(url)\n",
        "\n",
        "\n",
        "with open(\"karachi_weather.csv\", \"wb\") as f:\n",
        "    f.write(response.content)\n",
        "\n",
        "df = pd.read_csv(\"karachi_weather.csv\", skiprows=12)  # skip metadata rows\n",
        "print(df.head())"
      ]
    },
    {
      "cell_type": "markdown",
      "source": [
        "# **Load & Explore Data**"
      ],
      "metadata": {
        "id": "LRsDuuGGzlQa"
      }
    },
    {
      "cell_type": "code",
      "source": [
        "df = pd.read_csv(\"karachi_weather.csv\", skiprows=12)\n",
        "print(df.head())\n"
      ],
      "metadata": {
        "colab": {
          "base_uri": "https://localhost:8080/"
        },
        "id": "ZqQP3GrNt4cA",
        "outputId": "103d9967-f33e-454a-d721-8e2f9e09cec1"
      },
      "execution_count": 31,
      "outputs": [
        {
          "output_type": "stream",
          "name": "stdout",
          "text": [
            "                                   -END HEADER-\n",
            "YEAR MO DY WS2M T2M   PS     RH2M   PRECTOTCORR\n",
            "2010 1  1  1.94 20.37 100.88 47.84          0.0\n",
            "        2  3.05 20.81 100.91 43.02         0.11\n",
            "        3  1.93 20.86 101.18 56.42          0.0\n",
            "        4  2.19 20.13 101.21 54.88          0.0\n"
          ]
        }
      ]
    },
    {
      "cell_type": "code",
      "source": [
        "import pandas as pd\n",
        "\n",
        "df = pd.read_csv(\"karachi_weather.csv\", skiprows=13)\n",
        "df.columns = df.columns.str.strip()\n",
        "\n",
        "print(df.head())\n",
        "print(df.columns)"
      ],
      "metadata": {
        "colab": {
          "base_uri": "https://localhost:8080/"
        },
        "id": "xLhtLA5wuCEL",
        "outputId": "4e3fca62-a2df-405a-ee7d-f98ecb1bcc14"
      },
      "execution_count": 32,
      "outputs": [
        {
          "output_type": "stream",
          "name": "stdout",
          "text": [
            "   YEAR  MO  DY  WS2M    T2M      PS   RH2M  PRECTOTCORR\n",
            "0  2010   1   1  1.94  20.37  100.88  47.84         0.00\n",
            "1  2010   1   2  3.05  20.81  100.91  43.02         0.11\n",
            "2  2010   1   3  1.93  20.86  101.18  56.42         0.00\n",
            "3  2010   1   4  2.19  20.13  101.21  54.88         0.00\n",
            "4  2010   1   5  2.26  20.30  100.90  63.29         0.00\n",
            "Index(['YEAR', 'MO', 'DY', 'WS2M', 'T2M', 'PS', 'RH2M', 'PRECTOTCORR'], dtype='object')\n"
          ]
        }
      ]
    },
    {
      "cell_type": "markdown",
      "source": [
        "# **Preprocess the Data**"
      ],
      "metadata": {
        "id": "cPKEJt7dzsfI"
      }
    },
    {
      "cell_type": "code",
      "source": [
        "from sklearn.preprocessing import MinMaxScaler\n",
        "df = pd.read_csv(\"karachi_weather.csv\", skiprows=13)\n",
        "df.columns = ['YEAR','MO','DY','T2M','RH2M','PS','WS2M','PRECTOTCORR']\n",
        "df['Date'] = pd.to_datetime(dict(year=df.YEAR, month=df.MO, day=df.DY))\n",
        "\n",
        "df = df[['Date','T2M','RH2M','PS','WS2M','PRECTOTCORR']].rename(columns={\n",
        "    'T2M': 'Temp',\n",
        "    'RH2M': 'Humidity',\n",
        "    'PS': 'Pressure',\n",
        "    'WS2M': 'Wind',\n",
        "    'PRECTOTCORR': 'Rainfall'\n",
        "})\n",
        "\n",
        "df['FloodRisk'] = pd.cut(df['Rainfall'],\n",
        "                         bins=[-1, 10, 50, 500],\n",
        "                         labels=['Low','Medium','High'])\n",
        "\n",
        "df = df.dropna()\n",
        "\n",
        "scaler = MinMaxScaler()\n",
        "scaled = scaler.fit_transform(df[['Temp','Humidity','Pressure','Wind','Rainfall']])\n",
        "\n",
        "scaled_df = pd.DataFrame(scaled, columns=['Temp','Humidity','Pressure','Wind','Rainfall'])\n",
        "scaled_df['FloodRisk'] = df['FloodRisk'].values\n",
        "scaled_df['Date'] = df['Date'].values\n",
        "\n",
        "print(scaled_df.head())\n",
        "\n"
      ],
      "metadata": {
        "colab": {
          "base_uri": "https://localhost:8080/"
        },
        "id": "nmKi9fJ4ujY3",
        "outputId": "99e0a3a9-f0eb-4b64-8281-93d469851cf4"
      },
      "execution_count": 33,
      "outputs": [
        {
          "output_type": "stream",
          "name": "stdout",
          "text": [
            "       Temp  Humidity  Pressure      Wind  Rainfall FloodRisk       Date\n",
            "0  0.111372  0.312167  0.729730  0.367135  0.000000       Low 2010-01-01\n",
            "1  0.241501  0.333495  0.739865  0.296605  0.000975       Low 2010-01-02\n",
            "2  0.110199  0.335919  0.831081  0.492684  0.000000       Low 2010-01-03\n",
            "3  0.140680  0.300533  0.841216  0.470149  0.000000       Low 2010-01-04\n",
            "4  0.148886  0.308774  0.736486  0.593210  0.000000       Low 2010-01-05\n"
          ]
        }
      ]
    },
    {
      "cell_type": "markdown",
      "source": [
        "# **Build LSTM Model**\n"
      ],
      "metadata": {
        "id": "H9jrgfXR0pmN"
      }
    },
    {
      "cell_type": "code",
      "source": [
        "import torch\n",
        "import torch.nn as nn\n",
        "from torch.utils.data import Dataset, DataLoader\n",
        "import numpy as np\n",
        "SEQ_LEN = 30  # number of past days to look at\n",
        "class FloodDataset(Dataset):\n",
        "    def __init__(self, df, seq_len=SEQ_LEN):\n",
        "        self.seq_len = seq_len\n",
        "        X = df[['Temp','Humidity','Pressure','Wind','Rainfall']].values\n",
        "        y = df['FloodRisk'].astype('category').cat.codes.values  # convert labels to 0/1/2\n",
        "        self.X, self.y = [], []\n",
        "        for i in range(len(X) - seq_len):\n",
        "            self.X.append(X[i:i+seq_len])\n",
        "            self.y.append(y[i+seq_len])\n",
        "        self.X = torch.tensor(np.array(self.X), dtype=torch.float32)\n",
        "        self.y = torch.tensor(np.array(self.y), dtype=torch.long)\n",
        "\n",
        "    def __len__(self):\n",
        "        return len(self.X)\n",
        "\n",
        "    def __getitem__(self, idx):\n",
        "        return self.X[idx], self.y[idx]\n",
        "\n",
        "dataset = FloodDataset(scaled_df)\n",
        "dataloader = DataLoader(dataset, batch_size=32, shuffle=True)\n",
        "\n",
        "class FloodLSTM(nn.Module):\n",
        "    def __init__(self, input_size=5, hidden_size=64, num_layers=2, num_classes=3):\n",
        "        super(FloodLSTM, self).__init__()\n",
        "        self.lstm = nn.LSTM(input_size, hidden_size, num_layers, batch_first=True)\n",
        "        self.fc = nn.Linear(hidden_size, num_classes)\n",
        "\n",
        "    def forward(self, x):\n",
        "        out, _ = self.lstm(x)\n",
        "        out = out[:, -1, :]  # last hidden state\n",
        "        out = self.fc(out)\n",
        "        return out\n",
        "\n",
        "model = FloodLSTM()\n"
      ],
      "metadata": {
        "id": "ZkdDB5QTvBN0"
      },
      "execution_count": 34,
      "outputs": []
    },
    {
      "cell_type": "markdown",
      "source": [
        "# **Train the Model**"
      ],
      "metadata": {
        "id": "SnIsZ9PA03Tf"
      }
    },
    {
      "cell_type": "code",
      "source": [
        "import torch.optim as optim\n",
        "from sklearn.metrics import accuracy_score\n",
        "\n",
        "# Device setup\n",
        "device = torch.device(\"cuda\" if torch.cuda.is_available() else \"cpu\")\n",
        "model = FloodLSTM().to(device)\n",
        "\n",
        "# Loss & optimizer\n",
        "criterion = nn.CrossEntropyLoss()\n",
        "optimizer = optim.Adam(model.parameters(), lr=0.001)\n",
        "\n",
        "# Training loop\n",
        "EPOCHS = 20\n",
        "for epoch in range(EPOCHS):\n",
        "    model.train()\n",
        "    epoch_loss, all_preds, all_labels = 0, [], []\n",
        "\n",
        "    for X_batch, y_batch in dataloader:\n",
        "        X_batch, y_batch = X_batch.to(device), y_batch.to(device)\n",
        "\n",
        "        optimizer.zero_grad()\n",
        "        outputs = model(X_batch)\n",
        "\n",
        "        loss = criterion(outputs, y_batch)\n",
        "        loss.backward()\n",
        "        optimizer.step()\n",
        "\n",
        "        epoch_loss += loss.item()\n",
        "        preds = torch.argmax(outputs, dim=1)\n",
        "        all_preds.extend(preds.cpu().numpy())\n",
        "        all_labels.extend(y_batch.cpu().numpy())\n",
        "\n",
        "    acc = accuracy_score(all_labels, all_preds)\n",
        "    print(f\"Epoch {epoch+1}/{EPOCHS}, Loss: {epoch_loss:.4f}, Accuracy: {acc:.4f}\")\n"
      ],
      "metadata": {
        "colab": {
          "base_uri": "https://localhost:8080/"
        },
        "id": "Z5q12mLUvHxF",
        "outputId": "cd30054c-9b27-443a-c70d-73d63279334b"
      },
      "execution_count": 35,
      "outputs": [
        {
          "output_type": "stream",
          "name": "stdout",
          "text": [
            "Epoch 1/20, Loss: 28.1667, Accuracy: 0.9811\n",
            "Epoch 2/20, Loss: 15.9830, Accuracy: 0.9811\n",
            "Epoch 3/20, Loss: 15.9147, Accuracy: 0.9811\n",
            "Epoch 4/20, Loss: 15.8697, Accuracy: 0.9811\n",
            "Epoch 5/20, Loss: 15.9440, Accuracy: 0.9811\n",
            "Epoch 6/20, Loss: 15.6468, Accuracy: 0.9811\n",
            "Epoch 7/20, Loss: 15.3235, Accuracy: 0.9811\n",
            "Epoch 8/20, Loss: 14.4076, Accuracy: 0.9811\n",
            "Epoch 9/20, Loss: 13.1738, Accuracy: 0.9811\n",
            "Epoch 10/20, Loss: 12.2821, Accuracy: 0.9813\n",
            "Epoch 11/20, Loss: 11.4201, Accuracy: 0.9819\n",
            "Epoch 12/20, Loss: 10.6929, Accuracy: 0.9817\n",
            "Epoch 13/20, Loss: 10.2293, Accuracy: 0.9827\n",
            "Epoch 14/20, Loss: 9.7272, Accuracy: 0.9829\n",
            "Epoch 15/20, Loss: 9.4848, Accuracy: 0.9833\n",
            "Epoch 16/20, Loss: 9.3778, Accuracy: 0.9837\n",
            "Epoch 17/20, Loss: 9.2294, Accuracy: 0.9829\n",
            "Epoch 18/20, Loss: 9.0490, Accuracy: 0.9827\n",
            "Epoch 19/20, Loss: 8.9931, Accuracy: 0.9835\n",
            "Epoch 20/20, Loss: 8.9899, Accuracy: 0.9833\n"
          ]
        }
      ]
    },
    {
      "cell_type": "code",
      "source": [
        "torch.save(model.state_dict(), \"flood_lstm.pth\")\n"
      ],
      "metadata": {
        "id": "eWb4hjIevnR9"
      },
      "execution_count": 36,
      "outputs": []
    },
    {
      "cell_type": "code",
      "source": [
        "model = FloodLSTM().to(device)\n",
        "model.load_state_dict(torch.load(\"flood_lstm.pth\"))\n",
        "model.eval()\n"
      ],
      "metadata": {
        "colab": {
          "base_uri": "https://localhost:8080/"
        },
        "id": "eq7LfK0DwSDh",
        "outputId": "14821674-d507-4c7a-ec35-c5bf0c973e7a"
      },
      "execution_count": 37,
      "outputs": [
        {
          "output_type": "execute_result",
          "data": {
            "text/plain": [
              "FloodLSTM(\n",
              "  (lstm): LSTM(5, 64, num_layers=2, batch_first=True)\n",
              "  (fc): Linear(in_features=64, out_features=3, bias=True)\n",
              ")"
            ]
          },
          "metadata": {},
          "execution_count": 37
        }
      ]
    },
    {
      "cell_type": "code",
      "source": [
        "def predict_flood_risk(model, data, scaler):\n",
        "    model.eval()\n",
        "    with torch.no_grad():\n",
        "        X = torch.tensor(data.values, dtype=torch.float32).unsqueeze(0).to(device)\n",
        "        output = model(X)\n",
        "        pred_class = torch.argmax(output, dim=1).item()\n",
        "        return \"High\" if pred_class == 1 else \"Low\"\n",
        "\n",
        "#last 30 days\n",
        "last_30 = scaled_df[['Temp','Humidity','Pressure','Wind','Rainfall']].tail(30)\n",
        "risk = predict_flood_risk(model, last_30, scaler)\n",
        "print(\"Predicted Flood Risk:\", risk)\n"
      ],
      "metadata": {
        "colab": {
          "base_uri": "https://localhost:8080/"
        },
        "id": "VbTgWqtFwUcZ",
        "outputId": "9fb10d5f-a7eb-4c2e-de9d-b31e1c71ee2b"
      },
      "execution_count": 38,
      "outputs": [
        {
          "output_type": "stream",
          "name": "stdout",
          "text": [
            "Predicted Flood Risk: Low\n"
          ]
        }
      ]
    },
    {
      "cell_type": "code",
      "source": [
        "from sklearn.model_selection import train_test_split\n",
        "\n",
        "features = ['Temp','Humidity','Pressure','Wind','Rainfall']\n",
        "X = scaled_df[features].values\n",
        "y = (scaled_df['FloodRisk'] == 'High').astype(int).values  # 1 = High, 0 = Low\n",
        "\n",
        "\n",
        "X_train, X_test, y_train, y_test = train_test_split(\n",
        "    X, y, test_size=0.2, shuffle=False\n",
        ")\n",
        "\n",
        "X_test_tensor = torch.tensor(X_test, dtype=torch.float32).unsqueeze(1)\n",
        "y_test_tensor = torch.tensor(y_test, dtype=torch.long)"
      ],
      "metadata": {
        "id": "Q8ef3yjmxU0M"
      },
      "execution_count": 39,
      "outputs": []
    },
    {
      "cell_type": "markdown",
      "source": [
        "# **Model Evaluation**\n"
      ],
      "metadata": {
        "id": "hyHNNCW8xgQ1"
      }
    },
    {
      "cell_type": "code",
      "source": [
        "from sklearn.metrics import classification_report, confusion_matrix\n",
        "import seaborn as sns\n",
        "import matplotlib.pyplot as plt\n",
        "model.eval()\n",
        "\n",
        "\n",
        "with torch.no_grad():\n",
        "    outputs = model(X_test_tensor)\n",
        "    y_pred = torch.argmax(outputs, dim=1).cpu().numpy()\n",
        "\n",
        "\n",
        "y_true = y_test_tensor.cpu().numpy()\n",
        "cm = confusion_matrix(y_true, y_pred)\n",
        "\n",
        "plt.figure(figsize=(6,4))\n",
        "sns.heatmap(cm, annot=True, fmt=\"d\", cmap=\"Blues\",\n",
        "            xticklabels=['Low','High'], yticklabels=['Low','High'])\n",
        "plt.xlabel(\"Predicted\")\n",
        "plt.ylabel(\"Actual\")\n",
        "plt.title(\"Confusion Matrix\")\n",
        "plt.show()\n",
        "\n",
        "# Classification report\n",
        "print(\"Classification Report:\")\n",
        "print(classification_report(y_true, y_pred, target_names=['Low','High']))\n",
        "\n"
      ],
      "metadata": {
        "colab": {
          "base_uri": "https://localhost:8080/",
          "height": 584
        },
        "id": "PmeL3xk3wvww",
        "outputId": "c9cdaa10-5e25-4ab1-b2d2-72defb9bdf5e"
      },
      "execution_count": 40,
      "outputs": [
        {
          "output_type": "display_data",
          "data": {
            "text/plain": [
              "<Figure size 600x400 with 2 Axes>"
            ],
            "image/png": "[encoded data removed]"
          },
          "metadata": {}
        },
        {
          "output_type": "stream",
          "name": "stdout",
          "text": [
            "Classification Report:\n",
            "              precision    recall  f1-score   support\n",
            "\n",
            "         Low       1.00      0.96      0.98      1022\n",
            "        High       0.03      1.00      0.05         1\n",
            "\n",
            "    accuracy                           0.96      1023\n",
            "   macro avg       0.51      0.98      0.52      1023\n",
            "weighted avg       1.00      0.96      0.98      1023\n",
            "\n"
          ]
        }
      ]
    },
    {
      "cell_type": "markdown",
      "source": [
        "## **Simulations**"
      ],
      "metadata": {
        "id": "iCsVk_v82T19"
      }
    },
    {
      "cell_type": "code",
      "source": [
        "features = ['Temp', 'Humidity', 'Pressure', 'Wind', 'Rainfall']\n",
        "changes = np.linspace(-1, 1, 20)\n",
        "\n",
        "plt.figure(figsize=(12, 8))\n",
        "\n",
        "for i, feature in enumerate(features, 1):\n",
        "    risks = []\n",
        "    for change in changes:\n",
        "        risk = simulate_weather_change(model, last_30_df, feature, change)\n",
        "        risks.append(1 if risk == \"High\" else 0)\n",
        "\n",
        "    plt.subplot(2, 3, i)\n",
        "    plt.plot(changes, risks, marker='o', color=\"green\")\n",
        "    plt.title(f\"Flood Risk vs {feature} Change\")\n",
        "    plt.xlabel(f\"Change in {feature} (scaled units)\")\n",
        "    plt.ylabel(\"Flood Risk (0=Low, 1=High)\")\n",
        "    plt.ylim(-0.1, 1.1)\n",
        "    plt.grid(True)\n",
        "\n",
        "plt.tight_layout()\n",
        "plt.show()\n",
        "\n",
        "\n",
        "\n"
      ],
      "metadata": {
        "colab": {
          "base_uri": "https://localhost:8080/",
          "height": 807
        },
        "id": "-OCfd7f_1H3_",
        "outputId": "b1f5ab7f-73f3-4785-d23d-1ac6a097f15d"
      },
      "execution_count": 41,
      "outputs": [
        {
          "output_type": "display_data",
          "data": {
            "text/plain": [
              "<Figure size 1200x800 with 5 Axes>"
            ],
            "image/png": "[encoded data removed]"
          },
          "metadata": {}
        }
      ]
    },
    {
      "cell_type": "code",
      "source": [
        "import torch.nn.functional as F\n",
        "\n",
        "def simulate_prob_change(model, last_30_df, feature, change):\n",
        "\n",
        "    data = last_30_df.copy()\n",
        "    data[feature] = data[feature] + change\n",
        "\n",
        "\n",
        "    data_tensor = torch.tensor(data.values[np.newaxis, :, :], dtype=torch.float32)\n",
        "\n",
        "\n",
        "    with torch.no_grad():\n",
        "        output = model(data_tensor)\n",
        "        probs = F.softmax(output, dim=1).cpu().numpy()[0]\n",
        "        return probs[1]\n",
        "\n",
        "\n",
        "features = ['Temp', 'Humidity', 'Pressure', 'Wind', 'Rainfall']\n",
        "changes = np.linspace(-1, 1, 20)\n",
        "\n",
        "plt.figure(figsize=(12, 8))\n",
        "\n",
        "for i, feature in enumerate(features, 1):\n",
        "    high_probs = []\n",
        "    for change in changes:\n",
        "        prob = simulate_prob_change(model, last_30_df, feature, change)\n",
        "        high_probs.append(prob)\n",
        "\n",
        "    plt.subplot(2, 3, i)\n",
        "    plt.plot(changes, high_probs, marker='o', color=\"red\")\n",
        "    plt.title(f\"Flood Risk Probability vs {feature}\")\n",
        "    plt.xlabel(f\"Change in {feature} (scaled units)\")\n",
        "    plt.ylabel(\"Probability of High Flood Risk\")\n",
        "    plt.ylim(0, 1)\n",
        "    plt.grid(True)\n",
        "\n",
        "plt.tight_layout()\n",
        "plt.show()\n"
      ],
      "metadata": {
        "colab": {
          "base_uri": "https://localhost:8080/",
          "height": 807
        },
        "id": "Lr0AkMINYeWI",
        "outputId": "9b40d69d-d7b5-491c-fd51-c551a04c9b31"
      },
      "execution_count": 43,
      "outputs": [
        {
          "output_type": "display_data",
          "data": {
            "text/plain": [
              "<Figure size 1200x800 with 5 Axes>"
            ],
            "image/png": "[encoded data removed]"
          },
          "metadata": {}
        }
      ]
    },
    {
      "cell_type": "markdown",
      "source": [
        "# **Dashboard**"
      ],
      "metadata": {
        "id": "MrC6bjosa25Q"
      }
    },
    {
      "cell_type": "code",
      "source": [
        "from ipywidgets import interact, FloatSlider, VBox, HBox, Output\n",
        "last_30_df = scaled_df[['Temp','Humidity','Pressure','Wind','Rainfall']].tail(30)\n",
        "\n",
        "def predict_prob(model, seq_df):\n",
        "    data_tensor = torch.tensor(seq_df.values[np.newaxis, :, :], dtype=torch.float32)\n",
        "    with torch.no_grad():\n",
        "        output = model(data_tensor)\n",
        "        probs = F.softmax(output, dim=1).cpu().numpy()[0]\n",
        "        return probs[1]\n",
        "\n",
        "def simulate_prob_change(model, seq_df, feature, change):\n",
        "    df = seq_df.copy()\n",
        "    df[feature] = df[feature] + change\n",
        "    data_tensor = torch.tensor(df.values[np.newaxis, :, :], dtype=torch.float32)\n",
        "    with torch.no_grad():\n",
        "        output = model(data_tensor)\n",
        "        probs = F.softmax(output, dim=1).cpu().numpy()[0]\n",
        "        return probs[1]\n",
        "\n",
        "out = Output()\n",
        "\n",
        "def update_dashboard(temp, humidity, pressure, wind, rainfall):\n",
        "\n",
        "    new_seq = last_30_df.copy()\n",
        "    new_seq.iloc[-1] = [temp, humidity, pressure, wind, rainfall]\n",
        "\n",
        "\n",
        "    risk_prob = predict_prob(model, new_seq)\n",
        "\n",
        "    with out:\n",
        "        out.clear_output()\n",
        "        print(f\"Predicted Flood Risk Probability: {risk_prob*100:.1f}% chance of High Flood Risk\")\n",
        "\n",
        "\n",
        "        features = ['Temp','Humidity','Pressure','Wind','Rainfall']\n",
        "        changes = np.linspace(-1, 1, 20)\n",
        "        fig, axes = plt.subplots(2, 3, figsize=(12, 8))\n",
        "\n",
        "        for i, feature in enumerate(features):\n",
        "            probs = [simulate_prob_change(model, last_30_df, feature, c) for c in changes]\n",
        "            ax = axes[i//3, i%3]\n",
        "            ax.plot(changes, probs, marker='*', color='blue')\n",
        "            ax.set_title(f\"{feature}\")\n",
        "            ax.set_xlabel(\"Change (scaled units)\")\n",
        "            ax.set_ylabel(\"High Flood Risk Prob\")\n",
        "            ax.set_ylim(0, 1)\n",
        "            ax.grid(True)\n",
        "\n",
        "        if len(features) < 6:\n",
        "            axes[1,2].axis('off')\n",
        "\n",
        "        plt.tight_layout()\n",
        "        plt.show()\n",
        "\n",
        "sliders = [FloatSlider(min=float(last_30_df[f].min()), max=float(last_30_df[f].max()),\n",
        "                       step=0.01, value=float(last_30_df[f].iloc[-1]), description=f)\n",
        "           for f in ['Temp','Humidity','Pressure','Wind','Rainfall']]\n",
        "\n",
        "interact(update_dashboard, temp=sliders[0], humidity=sliders[1], pressure=sliders[2],\n",
        "         wind=sliders[3], rainfall=sliders[4])\n",
        "\n",
        "VBox([out])\n"
      ],
      "metadata": {
        "colab": {
          "base_uri": "https://localhost:8080/",
          "height": 984,
          "referenced_widgets": [
            "862ed2e6ebeb44d4b96c6e0587474c4b",
            "0005244a3e244f3aa49dfcc82e4ce258",
            "74f5b29828f04bbc873c37cb7eef584a",
            "d214288c56f2459693f396eea135eedf",
            "e088320964bb44e8ba13f61306f549d0",
            "8d5085ef5c204a64a6928e39d3a148f9",
            "283e905c77cf4342918df02182a3c14a",
            "7ee9d7e734f04b02b83a59585484d211",
            "105c6f1551ad452286fd41b6b29aa4e1",
            "d432eb483a734c3c8d1059bcd7580e92",
            "d527c0388ba248389b82c75781a4ee6d",
            "ca43f85d9b9d4150940a935c770bb49d",
            "f44a53ef6341483ba0ee65c865e3eb99",
            "d24781d5cc8a4bae8294e64f4d52789e",
            "56853ccb0a2648eeaac704e69fb593eb",
            "6015b801578d4238919b5c0eed7ade55",
            "84bafbd70278469081ba89e657ee6e82",
            "236a458e11cf48e394410c7e40f1b62b",
            "ad14611957a14ecca7c6d9e65f652353",
            "582ed6a151f745b49f13194ac6d2cd16",
            "70ec5fa3c80c4d028ed017bb43cc206b",
            "4f33f8fe4275420b87db98ef3da043ae",
            "9523dd524e24436eaf148d1992bca1e1"
          ]
        },
        "id": "mUA9ClmFaUxL",
        "outputId": "5f8f6255-1759-4326-94ab-28334723f0c8"
      },
      "execution_count": 47,
      "outputs": [
        {
          "output_type": "display_data",
          "data": {
            "text/plain": [
              "interactive(children=(FloatSlider(value=0.062133645955451344, description='Temp', max=0.3610785463071513, min=…"
            ],
            "application/vnd.jupyter.widget-view+json": {
              "version_major": 2,
              "version_minor": 0,
              "model_id": "862ed2e6ebeb44d4b96c6e0587474c4b"
            }
          },
          "metadata": {}
        },
        {
          "output_type": "display_data",
          "data": {
            "text/plain": [
              "VBox(children=(Output(),))"
            ],
            "application/vnd.jupyter.widget-view+json": {
              "version_major": 2,
              "version_minor": 0,
              "model_id": "582ed6a151f745b49f13194ac6d2cd16"
            }
          },
          "metadata": {}
        }
      ]
    },
    {
      "cell_type": "markdown",
      "source": [
        "# **Relevance to SDG 13**\n",
        "## Relevance to SDG 13: Climate Action\n",
        "This project contributes to climate resilience by predicting urban flooding risk in Karachi.  \n",
        "Early warning systems like this can support adaptation strategies and reduce disaster impacts.\n"
      ],
      "metadata": {
        "id": "CIZ6i1s81RcD"
      }
    }
  ]
}